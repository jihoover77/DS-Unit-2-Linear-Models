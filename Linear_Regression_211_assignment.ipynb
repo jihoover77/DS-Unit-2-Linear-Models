{
  "nbformat": 4,
  "nbformat_minor": 0,
  "metadata": {
    "kernelspec": {
      "display_name": "Python 3",
      "language": "python",
      "name": "python3"
    },
    "language_info": {
      "codemirror_mode": {
        "name": "ipython",
        "version": 3
      },
      "file_extension": ".py",
      "mimetype": "text/x-python",
      "name": "python",
      "nbconvert_exporter": "python",
      "pygments_lexer": "ipython3",
      "version": "3.7.3"
    },
    "colab": {
      "name": "Linear_Regression_211_assignment.ipynb",
      "provenance": [],
      "collapsed_sections": [],
      "include_colab_link": true
    }
  },
  "cells": [
    {
      "cell_type": "markdown",
      "metadata": {
        "id": "view-in-github",
        "colab_type": "text"
      },
      "source": [
        "<a href=\"https://colab.research.google.com/github/jihoover77/DS-Unit-2-Linear-Models/blob/master/Linear_Regression_211_assignment.ipynb\" target=\"_parent\"><img src=\"https://colab.research.google.com/assets/colab-badge.svg\" alt=\"Open In Colab\"/></a>"
      ]
    },
    {
      "cell_type": "markdown",
      "metadata": {
        "id": "UTcv22F-U4JN"
      },
      "source": [
        "Lambda School Data Science\n",
        "\n",
        "*Unit 2, Sprint 1, Module 1*\n",
        "\n",
        "---"
      ]
    },
    {
      "cell_type": "markdown",
      "metadata": {
        "id": "7IXUfiQ2UKj6"
      },
      "source": [
        "# Regression 1\n",
        "\n",
        "## Assignment\n",
        "\n",
        "You'll use another **New York City** real estate dataset. \n",
        "\n",
        "But now you'll **predict how much it costs to rent an apartment**, instead of how much it costs to buy a condo.\n",
        "\n",
        "The data comes from renthop.com, an apartment listing website.\n",
        "\n",
        "- [ ] Look at the data. Choose a feature, and plot its relationship with the target.\n",
        "- [ ] Use scikit-learn for linear regression with one feature. You can follow the [5-step process from Jake VanderPlas](https://jakevdp.github.io/PythonDataScienceHandbook/05.02-introducing-scikit-learn.html#Basics-of-the-API).\n",
        "- [ ] Define a function to make new predictions and explain the model coefficient.\n",
        "- [ ] Organize and comment your code.\n",
        "\n",
        "> [Do Not Copy-Paste.](https://docs.google.com/document/d/1ubOw9B3Hfip27hF2ZFnW3a3z9xAgrUDRReOEo-FHCVs/edit) You must type each of these exercises in, manually. If you copy and paste, you might as well not even do them. The point of these exercises is to train your hands, your brain, and your mind in how to read, write, and see code. If you copy-paste, you are cheating yourself out of the effectiveness of the lessons.\n",
        "\n",
        "If your **Plotly** visualizations aren't working:\n",
        "- You must have JavaScript enabled in your browser\n",
        "- You probably want to use Chrome or Firefox\n",
        "- You may need to turn off ad blockers\n",
        "- [If you're using Jupyter Lab locally, you need to install some \"extensions\"](https://plot.ly/python/getting-started/#jupyterlab-support-python-35)\n",
        "\n",
        "## Stretch Goals\n",
        "- [ ] Do linear regression with two or more features.\n",
        "- [ ] Read [The Discovery of Statistical Regression](https://priceonomics.com/the-discovery-of-statistical-regression/)\n",
        "- [ ] Read [_An Introduction to Statistical Learning_](http://faculty.marshall.usc.edu/gareth-james/ISL/ISLR%20Seventh%20Printing.pdf), Chapter 2.1: What Is Statistical Learning?"
      ]
    },
    {
      "cell_type": "code",
      "metadata": {
        "id": "o9eSnDYhUGD7"
      },
      "source": [
        "import sys\n",
        "\n",
        "# If you're on Colab:\n",
        "if 'google.colab' in sys.modules:\n",
        "    DATA_PATH = 'https://raw.githubusercontent.com/LambdaSchool/DS-Unit-2-Applied-Modeling/master/data/'\n",
        "\n",
        "# If you're working locally:\n",
        "else:\n",
        "    DATA_PATH = '../data/'\n",
        "    \n",
        "# Ignore this Numpy warning when using Plotly Express:\n",
        "# FutureWarning: Method .ptp is deprecated and will be removed in a future version. Use numpy.ptp instead.\n",
        "import warnings\n",
        "warnings.filterwarnings(action='ignore', category=FutureWarning, module='numpy')"
      ],
      "execution_count": 111,
      "outputs": []
    },
    {
      "cell_type": "code",
      "metadata": {
        "id": "4S2wXSrFV_g4"
      },
      "source": [
        "# Read New York City apartment rental listing data\n",
        "import pandas as pd\n",
        "import numpy as np\n",
        "import matplotlib.pyplot as plt\n",
        "from sklearn.metrics import mean_absolute_error\n",
        "from sklearn.linear_model import LinearRegression\n",
        "\n",
        "df = pd.read_csv(DATA_PATH+'apartments/renthop-nyc.csv')\n",
        "assert df.shape == (49352, 34)"
      ],
      "execution_count": 112,
      "outputs": []
    },
    {
      "cell_type": "markdown",
      "metadata": {
        "id": "enIeEFSscr8d"
      },
      "source": [
        "# Step 1:  Read in file and wrangle data"
      ]
    },
    {
      "cell_type": "code",
      "metadata": {
        "id": "ktpk-WQgU4JT"
      },
      "source": [
        "def wrangle(filepath):\n",
        "  df = pd.read_csv(filepath,\n",
        "                   index_col=['created'],\n",
        "                   parse_dates=['created'],\n",
        "                   na_filter=[0.0])\n",
        "  \n",
        "  # Remove outliers: \n",
        "  # the most extreme 1% prices,\n",
        "  # the most extreme .1% latitudes, &\n",
        "  # the most extreme .1% longitudes\n",
        "  df = df[(df['price'] >= 1375) & (df['price'] <= 15500) & \n",
        "          (df['latitude'] >=40.57) & (df['latitude'] < 40.99) &\n",
        "          (df['longitude'] >= -74.1) & (df['longitude'] <= -73.38)]\n",
        "  \n",
        "  # Drop high cardinality features\n",
        "  df = df.drop(columns=['description'])\n",
        "\n",
        "  # Drop a duplicate features\n",
        "  df = df.drop(columns=['street_address'])\n",
        "\n",
        "  # Create a feature that combines all of the perks\n",
        "  df['perk_count'] = df[['elevator', 'cats_allowed', 'hardwood_floors', 'dogs_allowed',\n",
        "                        'doorman', 'dishwasher', 'no_fee', 'laundry_in_building',\n",
        "                        'fitness_center', 'pre-war', 'laundry_in_unit', 'roof_deck',\n",
        "                        'outdoor_space', 'dining_room', 'high_speed_internet', 'balcony',\n",
        "                        'swimming_pool', 'new_construction', 'exclusive', 'terrace', \n",
        "                        'loft', 'garden_patio', 'common_outdoor_space', \n",
        "                        'wheelchair_access']].sum(axis=1)\n",
        "  \n",
        "  # Create a feature column of the total rooms\n",
        "  df['total_rooms'] = df[['bedrooms', 'bathrooms']].sum(axis=1)\n",
        "\n",
        "  # Create a feature column from latitude and longitude to get the distance from\n",
        "  # Manhattan \n",
        "  manhattan_lat = 40.7829\n",
        "  manhattan_lon = -73.9711\n",
        "  df['distance_from_Manhattan'] = np.sqrt((manhattan_lat - df['latitude'])**2 + \n",
        "                                        (manhattan_lon - df['longitude'])**2)\n",
        "  return df\n",
        "\n",
        "df = wrangle(DATA_PATH+'apartments/renthop-nyc.csv')"
      ],
      "execution_count": 113,
      "outputs": []
    },
    {
      "cell_type": "code",
      "metadata": {
        "colab": {
          "base_uri": "https://localhost:8080/",
          "height": 265
        },
        "id": "INhPerqrX3ia",
        "outputId": "e00e47d8-8756-45ae-e4b8-7412483bb72b"
      },
      "source": [
        "plt.scatter(df['total_rooms'], df['price']);"
      ],
      "execution_count": 114,
      "outputs": [
        {
          "output_type": "display_data",
          "data": {
            "image/png": "[encoded data removed]",
            "text/plain": [
              "<Figure size 432x288 with 1 Axes>"
            ]
          },
          "metadata": {
            "tags": [],
            "needs_background": "light"
          }
        }
      ]
    },
    {
      "cell_type": "markdown",
      "metadata": {
        "id": "T__CluLLeDz3"
      },
      "source": [
        "# Step 2: Split Data"
      ]
    },
    {
      "cell_type": "code",
      "metadata": {
        "id": "8zYy3TbodsE0"
      },
      "source": [
        "X = df[['total_rooms']]\n",
        "y = df['price']"
      ],
      "execution_count": 115,
      "outputs": []
    },
    {
      "cell_type": "markdown",
      "metadata": {
        "id": "Zui3HQEuegBi"
      },
      "source": [
        "# Step 3: Establish Baseline"
      ]
    },
    {
      "cell_type": "code",
      "metadata": {
        "colab": {
          "base_uri": "https://localhost:8080/"
        },
        "id": "OOWffqkneXzB",
        "outputId": "221ead3f-6ff5-4325-fd02-5b5d6db4f278"
      },
      "source": [
        "y_pred = [y.mean()] * len(y)\n",
        "print('Baseline MAE: ', mean_absolute_error(y, y_pred))"
      ],
      "execution_count": 116,
      "outputs": [
        {
          "output_type": "stream",
          "text": [
            "Baseline MAE:  1201.5251847945751\n"
          ],
          "name": "stdout"
        }
      ]
    },
    {
      "cell_type": "code",
      "metadata": {
        "colab": {
          "base_uri": "https://localhost:8080/",
          "height": 280
        },
        "id": "hrb-eAIEev39",
        "outputId": "5f0bbdc0-d466-4ad1-b000-cb78378ede2a"
      },
      "source": [
        "plt.scatter(X, y)\n",
        "plt.plot(X, y_pred, label='Baseline', color='red')\n",
        "plt.xlabel('Total Rooms')\n",
        "plt.ylabel('Price')\n",
        "plt.legend();"
      ],
      "execution_count": 117,
      "outputs": [
        {
          "output_type": "display_data",
          "data": {
            "image/png": "[encoded data removed]",
            "text/plain": [
              "<Figure size 432x288 with 1 Axes>"
            ]
          },
          "metadata": {
            "tags": [],
            "needs_background": "light"
          }
        }
      ]
    },
    {
      "cell_type": "markdown",
      "metadata": {
        "id": "ywrJumUDf81k"
      },
      "source": [
        "# Step 4: Build Model"
      ]
    },
    {
      "cell_type": "code",
      "metadata": {
        "colab": {
          "base_uri": "https://localhost:8080/"
        },
        "id": "h5ugUsBrfUl6",
        "outputId": "ed5bfefd-b1ea-4b39-bb81-ecd7dd399949"
      },
      "source": [
        "# 5-step process from Jake VanderPlas\n",
        "\n",
        "# Step `1:  Choose a class of model and import from sklearn\n",
        "# from sklearn.linear_model import Linear Regression\n",
        "\n",
        "# Step 2:  Instantiate that class\n",
        "model_lr = LinearRegression()\n",
        "\n",
        "# Step 3:  Arrange the model into feature(s) matrix and target vector\n",
        "X = df[['total_rooms']]\n",
        "y = df['price']\n",
        "\n",
        "# Step 4: Fit the model to training data\n",
        "model_lr.fit(X, y)"
      ],
      "execution_count": 118,
      "outputs": [
        {
          "output_type": "execute_result",
          "data": {
            "text/plain": [
              "LinearRegression(copy_X=True, fit_intercept=True, n_jobs=None, normalize=False)"
            ]
          },
          "metadata": {
            "tags": []
          },
          "execution_count": 118
        }
      ]
    },
    {
      "cell_type": "markdown",
      "metadata": {
        "id": "iLUu3oA9hD45"
      },
      "source": [
        "# Step 5: Check the Metrics"
      ]
    },
    {
      "cell_type": "code",
      "metadata": {
        "colab": {
          "base_uri": "https://localhost:8080/"
        },
        "id": "iKMnRaZog_4C",
        "outputId": "5e7ac57d-071b-4368-bdb3-ce4441286d30"
      },
      "source": [
        "# Step 5:  Apply the model to new data\n",
        "y_pred = model_lr.predict(X)\n",
        "\n",
        "print('Linear Regression MAE: ', mean_absolute_error(y, y_pred))"
      ],
      "execution_count": 119,
      "outputs": [
        {
          "output_type": "stream",
          "text": [
            "Linear Regression MAE:  899.7852762836384\n"
          ],
          "name": "stdout"
        }
      ]
    },
    {
      "cell_type": "markdown",
      "metadata": {
        "id": "RcIMRCONjlCB"
      },
      "source": [
        "# Communicate the Results"
      ]
    },
    {
      "cell_type": "code",
      "metadata": {
        "colab": {
          "base_uri": "https://localhost:8080/"
        },
        "id": "ltwpUNDGhe9b",
        "outputId": "8b4c0887-1149-4719-8dc1-10129da07f68"
      },
      "source": [
        "#  The model(equation of the best fit line)\n",
        "print(f'PRICE = {round(model_lr.intercept_)} + {round(model_lr.coef_[0])} * TOTAL ROOMS')"
      ],
      "execution_count": null,
      "outputs": [
        {
          "output_type": "stream",
          "text": [
            "PRICE = 1359 + 811 * TOTAL ROOMS\n"
          ],
          "name": "stdout"
        }
      ]
    },
    {
      "cell_type": "code",
      "metadata": {
        "colab": {
          "base_uri": "https://localhost:8080/",
          "height": 280
        },
        "id": "Z_QAiPYwiIOh",
        "outputId": "0324db3c-6e5f-4348-cf72-054838ae1eaf"
      },
      "source": [
        "plt.scatter(X, y)\n",
        "plt.plot(X, [y.mean()] * len(y), label='Baseline', color='grey')\n",
        "plt.plot(X, y_pred, label='Linear Regression', color='red')\n",
        "plt.xlabel('Total Rooms')\n",
        "plt.ylabel('Price')\n",
        "plt.legend();"
      ],
      "execution_count": 121,
      "outputs": [
        {
          "output_type": "display_data",
          "data": {
            "image/png": "[encoded data removed]",
            "text/plain": [
              "<Figure size 432x288 with 1 Axes>"
            ]
          },
          "metadata": {
            "tags": [],
            "needs_background": "light"
          }
        }
      ]
    },
    {
      "cell_type": "markdown",
      "metadata": {
        "id": "JLkoEYpni35D"
      },
      "source": [
        "# Stretch Goal:  Linear Regression with 2 features"
      ]
    },
    {
      "cell_type": "markdown",
      "metadata": {
        "id": "m_BYtwQVkFJo"
      },
      "source": [
        "# Select my features and Split the Dataset"
      ]
    },
    {
      "cell_type": "code",
      "metadata": {
        "id": "zuXW_qrWi26j"
      },
      "source": [
        "target = 'price'\n",
        "features = ['total_rooms', 'perk_count']"
      ],
      "execution_count": 122,
      "outputs": []
    },
    {
      "cell_type": "code",
      "metadata": {
        "colab": {
          "base_uri": "https://localhost:8080/"
        },
        "id": "Q7pSJhxJjOs2",
        "outputId": "36a64555-4f4c-4a17-dc84-739121d4a6b7"
      },
      "source": [
        "# Instatiate the model\n",
        "model2_lr = LinearRegression()\n",
        "\n",
        "# Get the features matrix and target vector\n",
        "X = df[features]\n",
        "y = df[target]\n",
        "\n",
        "# Fit the model\n",
        "model2_lr.fit(X, y)\n"
      ],
      "execution_count": 123,
      "outputs": [
        {
          "output_type": "execute_result",
          "data": {
            "text/plain": [
              "LinearRegression(copy_X=True, fit_intercept=True, n_jobs=None, normalize=False)"
            ]
          },
          "metadata": {
            "tags": []
          },
          "execution_count": 123
        }
      ]
    },
    {
      "cell_type": "code",
      "metadata": {
        "colab": {
          "base_uri": "https://localhost:8080/"
        },
        "id": "EIzjooBPj4Ra",
        "outputId": "4c5a9107-b62a-4848-e7c3-956e0dd1f70a"
      },
      "source": [
        "# Check the Metrics\n",
        "y_pred = model2_lr.predict(X)\n",
        "\n",
        "print('Linear Regression 2 Numeric Features: ', mean_absolute_error(y, y_pred))"
      ],
      "execution_count": 124,
      "outputs": [
        {
          "output_type": "stream",
          "text": [
            "Linear Regression 2 Numeric Features:  861.243292188433\n"
          ],
          "name": "stdout"
        }
      ]
    },
    {
      "cell_type": "code",
      "metadata": {
        "colab": {
          "base_uri": "https://localhost:8080/"
        },
        "id": "GE-4AF81kZvH",
        "outputId": "45722bb2-c504-4da6-96de-caeedc7a140b"
      },
      "source": [
        "# Linear model and the coefficients\n",
        "\n",
        "intercept = round(model2_lr.intercept_)\n",
        "coef1 = round(model2_lr.coef_[0])\n",
        "coef2 = round(model2_lr.coef_[1])\n",
        "\n",
        "print(f'PRICE = {intercept} + ({coef1} * TOTAL ROOMS) + ({coef2} * PERK TOTAL)')"
      ],
      "execution_count": 125,
      "outputs": [
        {
          "output_type": "stream",
          "text": [
            "PRICE = 993 + (768 * TOTAL ROOMS) + (103 * PERK TOTAL)\n"
          ],
          "name": "stdout"
        }
      ]
    },
    {
      "cell_type": "code",
      "metadata": {
        "id": "RHzh5oHNgfPA"
      },
      "source": [
        "from sklearn.preprocessing import StandardScaler\n",
        "from sklearn.pipeline import make_pipeline\n",
        "from sklearn.impute import SimpleImputer\n",
        "\n",
        "pipeline = make_pipeline(\n",
        "    SimpleImputer(strategy='median'),\n",
        "    StandardScaler(),\n",
        "    LinearRegression()\n",
        ")\n",
        "\n",
        "pipeline.fit(X, y);"
      ],
      "execution_count": 135,
      "outputs": []
    },
    {
      "cell_type": "code",
      "metadata": {
        "colab": {
          "base_uri": "https://localhost:8080/"
        },
        "id": "jYNfeDoOhrTv",
        "outputId": "664dd09b-a5bd-46b1-b203-7536e1acef23"
      },
      "source": [
        "print(f'LR for distance from Manhattan:  ${mean_absolute_error(y, model.predict(X)):,.0f}')"
      ],
      "execution_count": 136,
      "outputs": [
        {
          "output_type": "stream",
          "text": [
            "LR for distance from Manhattan:  $848\n"
          ],
          "name": "stdout"
        }
      ]
    },
    {
      "cell_type": "code",
      "metadata": {
        "colab": {
          "base_uri": "https://localhost:8080/"
        },
        "id": "-tNYQi9Nhxne",
        "outputId": "b599ca0a-08ed-4367-ea71-c7e2a47ccdff"
      },
      "source": [
        "print(f'PRICE = {model.intercept_:,.0f} - ({-model.coef_[0]:,.0f} * LOCATION) + ({model.coef_[1]:,.0f} * ROOMS) + ({model.coef_[2]:,.0f} * perks)')"
      ],
      "execution_count": 137,
      "outputs": [
        {
          "output_type": "stream",
          "text": [
            "PRICE = 1,436 - (8,892 * LOCATION) + (775 * ROOMS) + (97 * perks)\n"
          ],
          "name": "stdout"
        }
      ]
    }
  ]
}