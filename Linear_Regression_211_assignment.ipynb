{
  "nbformat": 4,
  "nbformat_minor": 0,
  "metadata": {
    "kernelspec": {
      "display_name": "Python 3",
      "language": "python",
      "name": "python3"
    },
    "language_info": {
      "codemirror_mode": {
        "name": "ipython",
        "version": 3
      },
      "file_extension": ".py",
      "mimetype": "text/x-python",
      "name": "python",
      "nbconvert_exporter": "python",
      "pygments_lexer": "ipython3",
      "version": "3.7.3"
    },
    "colab": {
      "name": "Linear_Regression_211_assignment.ipynb",
      "provenance": [],
      "include_colab_link": true
    }
  },
  "cells": [
    {
      "cell_type": "markdown",
      "metadata": {
        "id": "view-in-github",
        "colab_type": "text"
      },
      "source": [
        "<a href=\"https://colab.research.google.com/github/jihoover77/DS-Unit-2-Linear-Models/blob/master/Linear_Regression_211_assignment.ipynb\" target=\"_parent\"><img src=\"https://colab.research.google.com/assets/colab-badge.svg\" alt=\"Open In Colab\"/></a>"
      ]
    },
    {
      "cell_type": "markdown",
      "metadata": {
        "id": "UTcv22F-U4JN"
      },
      "source": [
        "Lambda School Data Science\n",
        "\n",
        "*Unit 2, Sprint 1, Module 1*\n",
        "\n",
        "---"
      ]
    },
    {
      "cell_type": "markdown",
      "metadata": {
        "id": "7IXUfiQ2UKj6"
      },
      "source": [
        "# Regression 1\n",
        "\n",
        "## Assignment\n",
        "\n",
        "You'll use another **New York City** real estate dataset. \n",
        "\n",
        "But now you'll **predict how much it costs to rent an apartment**, instead of how much it costs to buy a condo.\n",
        "\n",
        "The data comes from renthop.com, an apartment listing website.\n",
        "\n",
        "- [ ] Look at the data. Choose a feature, and plot its relationship with the target.\n",
        "- [ ] Use scikit-learn for linear regression with one feature. You can follow the [5-step process from Jake VanderPlas](https://jakevdp.github.io/PythonDataScienceHandbook/05.02-introducing-scikit-learn.html#Basics-of-the-API).\n",
        "- [ ] Define a function to make new predictions and explain the model coefficient.\n",
        "- [ ] Organize and comment your code.\n",
        "\n",
        "> [Do Not Copy-Paste.](https://docs.google.com/document/d/1ubOw9B3Hfip27hF2ZFnW3a3z9xAgrUDRReOEo-FHCVs/edit) You must type each of these exercises in, manually. If you copy and paste, you might as well not even do them. The point of these exercises is to train your hands, your brain, and your mind in how to read, write, and see code. If you copy-paste, you are cheating yourself out of the effectiveness of the lessons.\n",
        "\n",
        "If your **Plotly** visualizations aren't working:\n",
        "- You must have JavaScript enabled in your browser\n",
        "- You probably want to use Chrome or Firefox\n",
        "- You may need to turn off ad blockers\n",
        "- [If you're using Jupyter Lab locally, you need to install some \"extensions\"](https://plot.ly/python/getting-started/#jupyterlab-support-python-35)\n",
        "\n",
        "## Stretch Goals\n",
        "- [ ] Do linear regression with two or more features.\n",
        "- [ ] Read [The Discovery of Statistical Regression](https://priceonomics.com/the-discovery-of-statistical-regression/)\n",
        "- [ ] Read [_An Introduction to Statistical Learning_](http://faculty.marshall.usc.edu/gareth-james/ISL/ISLR%20Seventh%20Printing.pdf), Chapter 2.1: What Is Statistical Learning?"
      ]
    },
    {
      "cell_type": "code",
      "metadata": {
        "id": "o9eSnDYhUGD7"
      },
      "source": [
        "import sys\n",
        "\n",
        "# If you're on Colab:\n",
        "if 'google.colab' in sys.modules:\n",
        "    DATA_PATH = 'https://raw.githubusercontent.com/LambdaSchool/DS-Unit-2-Applied-Modeling/master/data/'\n",
        "\n",
        "# If you're working locally:\n",
        "else:\n",
        "    DATA_PATH = '../data/'\n",
        "    \n",
        "# Ignore this Numpy warning when using Plotly Express:\n",
        "# FutureWarning: Method .ptp is deprecated and will be removed in a future version. Use numpy.ptp instead.\n",
        "import warnings\n",
        "warnings.filterwarnings(action='ignore', category=FutureWarning, module='numpy')"
      ],
      "execution_count": 78,
      "outputs": []
    },
    {
      "cell_type": "code",
      "metadata": {
        "id": "4S2wXSrFV_g4"
      },
      "source": [
        "# Read New York City apartment rental listing data\n",
        "import pandas as pd\n",
        "import numpy as np\n",
        "import matplotlib.pyplot as plt\n",
        "from sklearn.metrics import mean_absolute_error\n",
        "from sklearn.linear_model import LinearRegression\n",
        "\n",
        "df = pd.read_csv(DATA_PATH+'apartments/renthop-nyc.csv')\n",
        "assert df.shape == (49352, 34)"
      ],
      "execution_count": 79,
      "outputs": []
    },
    {
      "cell_type": "markdown",
      "metadata": {
        "id": "enIeEFSscr8d"
      },
      "source": [
        "# Step 1:  Read in file and wrangle data"
      ]
    },
    {
      "cell_type": "code",
      "metadata": {
        "id": "ktpk-WQgU4JT"
      },
      "source": [
        "def wrangle(filepath):\n",
        "  df = pd.read_csv(filepath,\n",
        "                   index_col=['created'],\n",
        "                   parse_dates=['created'],\n",
        "                   na_filter=[0.0])\n",
        "  \n",
        "  # Remove outliers: \n",
        "  # the most extreme 1% prices,\n",
        "  # the most extreme .1% latitudes, &\n",
        "  # the most extreme .1% longitudes\n",
        "  df = df[(df['price'] >= 1375) & (df['price'] <= 15500) & \n",
        "          (df['latitude'] >=40.57) & (df['latitude'] < 40.99) &\n",
        "          (df['longitude'] >= -74.1) & (df['longitude'] <= -73.38)]\n",
        "  \n",
        "  # Drop high cardinality features\n",
        "  df = df.drop(columns=['description'])\n",
        "\n",
        "  # Drop a duplicate features\n",
        "  df = df.drop(columns=['street_address'])\n",
        "\n",
        "  # Create a feature that combines all of the perks\n",
        "  df['perk_count'] = df[['elevator', 'cats_allowed', 'hardwood_floors', 'dogs_allowed',\n",
        "                        'doorman', 'dishwasher', 'no_fee', 'laundry_in_building',\n",
        "                        'fitness_center', 'pre-war', 'laundry_in_unit', 'roof_deck',\n",
        "                        'outdoor_space', 'dining_room', 'high_speed_internet', 'balcony',\n",
        "                        'swimming_pool', 'new_construction', 'exclusive', 'terrace', \n",
        "                        'loft', 'garden_patio', 'common_outdoor_space', \n",
        "                        'wheelchair_access']].sum(axis=1)\n",
        "  \n",
        "  # Create a feature column of the total rooms\n",
        "  df['total_rooms'] = df[['bedrooms', 'bathrooms']].sum(axis=1)\n",
        "  return df\n",
        "\n",
        "df = wrangle(DATA_PATH+'apartments/renthop-nyc.csv')"
      ],
      "execution_count": 80,
      "outputs": []
    },
    {
      "cell_type": "code",
      "metadata": {
        "colab": {
          "base_uri": "https://localhost:8080/",
          "height": 265
        },
        "id": "INhPerqrX3ia",
        "outputId": "4875eb5e-f987-4593-dac5-fd449953f452"
      },
      "source": [
        "plt.scatter(df['total_rooms'], df['price']);"
      ],
      "execution_count": 81,
      "outputs": [
        {
          "output_type": "display_data",
          "data": {
            "image/png": "[encoded data removed]",
            "text/plain": [
              "<Figure size 432x288 with 1 Axes>"
            ]
          },
          "metadata": {
            "tags": [],
            "needs_background": "light"
          }
        }
      ]
    },
    {
      "cell_type": "markdown",
      "metadata": {
        "id": "T__CluLLeDz3"
      },
      "source": [
        "# Step 2: Split Data"
      ]
    },
    {
      "cell_type": "code",
      "metadata": {
        "id": "8zYy3TbodsE0"
      },
      "source": [
        "X = df[['total_rooms']]\n",
        "y = df['price']"
      ],
      "execution_count": 82,
      "outputs": []
    },
    {
      "cell_type": "markdown",
      "metadata": {
        "id": "Zui3HQEuegBi"
      },
      "source": [
        "# Step 3: Establish Baseline"
      ]
    },
    {
      "cell_type": "code",
      "metadata": {
        "colab": {
          "base_uri": "https://localhost:8080/"
        },
        "id": "OOWffqkneXzB",
        "outputId": "f0e30600-be20-4b39-a2ab-06571c55a979"
      },
      "source": [
        "y_pred = [y.mean()] * len(y)\n",
        "print('Baseline MAE: ', mean_absolute_error(y, y_pred))"
      ],
      "execution_count": 83,
      "outputs": [
        {
          "output_type": "stream",
          "text": [
            "Baseline MAE:  1201.5251847945751\n"
          ],
          "name": "stdout"
        }
      ]
    },
    {
      "cell_type": "code",
      "metadata": {
        "colab": {
          "base_uri": "https://localhost:8080/",
          "height": 280
        },
        "id": "hrb-eAIEev39",
        "outputId": "52f4a701-527b-4f82-8d38-feee6130d066"
      },
      "source": [
        "plt.scatter(X, y)\n",
        "plt.plot(X, y_pred, label='Baseline', color='red')\n",
        "plt.xlabel('Total Rooms')\n",
        "plt.ylabel('Price')\n",
        "plt.legend();"
      ],
      "execution_count": 84,
      "outputs": [
        {
          "output_type": "display_data",
          "data": {
            "image/png": "[encoded data removed]",
            "text/plain": [
              "<Figure size 432x288 with 1 Axes>"
            ]
          },
          "metadata": {
            "tags": [],
            "needs_background": "light"
          }
        }
      ]
    },
    {
      "cell_type": "markdown",
      "metadata": {
        "id": "ywrJumUDf81k"
      },
      "source": [
        "# Step 4: Build Model"
      ]
    },
    {
      "cell_type": "code",
      "metadata": {
        "colab": {
          "base_uri": "https://localhost:8080/"
        },
        "id": "h5ugUsBrfUl6",
        "outputId": "24b90647-bb07-48f6-a887-04133d057a07"
      },
      "source": [
        "# 5-step process from Jake VanderPlas\n",
        "\n",
        "# Step `1:  Choose a class of model and import from sklearn\n",
        "# from sklearn.linear_model import Linear Regression\n",
        "\n",
        "# Step 2:  Instantiate that class\n",
        "model_lr = LinearRegression()\n",
        "\n",
        "# Step 3:  Arrange the model into feature(s) matrix and target vector\n",
        "X = df[['total_rooms']]\n",
        "y = df['price']\n",
        "\n",
        "# Step 4: Fit the model to training data\n",
        "model_lr.fit(X, y)"
      ],
      "execution_count": 85,
      "outputs": [
        {
          "output_type": "execute_result",
          "data": {
            "text/plain": [
              "LinearRegression(copy_X=True, fit_intercept=True, n_jobs=None, normalize=False)"
            ]
          },
          "metadata": {
            "tags": []
          },
          "execution_count": 85
        }
      ]
    },
    {
      "cell_type": "markdown",
      "metadata": {
        "id": "iLUu3oA9hD45"
      },
      "source": [
        "# Step 5: Check the Metrics"
      ]
    },
    {
      "cell_type": "code",
      "metadata": {
        "colab": {
          "base_uri": "https://localhost:8080/"
        },
        "id": "iKMnRaZog_4C",
        "outputId": "78151195-c500-4197-92d6-9677e02641d7"
      },
      "source": [
        "# Step 5:  Apply the model to new data\n",
        "y_pred = model_lr.predict(X)\n",
        "\n",
        "print('Linear Regression MAE: ', mean_absolute_error(y, y_pred))"
      ],
      "execution_count": 86,
      "outputs": [
        {
          "output_type": "stream",
          "text": [
            "Linear Regression MAE:  899.7852762836384\n"
          ],
          "name": "stdout"
        }
      ]
    },
    {
      "cell_type": "code",
      "metadata": {
        "colab": {
          "base_uri": "https://localhost:8080/"
        },
        "id": "ltwpUNDGhe9b",
        "outputId": "95c85223-b820-4aa6-a438-fe2fc4a549d1"
      },
      "source": [
        "#  The model(equation of the best fit line)\n",
        "print(f'PRICE = {round(model_lr.intercept_)} + {round(model_lr.coef_[0])} * TOTAL ROOMS')"
      ],
      "execution_count": 87,
      "outputs": [
        {
          "output_type": "stream",
          "text": [
            "PRICE = 1359 + 811 * TOTAL ROOMS\n"
          ],
          "name": "stdout"
        }
      ]
    },
    {
      "cell_type": "code",
      "metadata": {
        "colab": {
          "base_uri": "https://localhost:8080/",
          "height": 280
        },
        "id": "Z_QAiPYwiIOh",
        "outputId": "859800a1-0f20-459c-dc8a-3afa095052cd"
      },
      "source": [
        "plt.scatter(X, y)\n",
        "plt.plot(X, [y.mean()] * len(y), label='Baseline', color='grey')\n",
        "plt.plot(X, y_pred, label='Linear Regression', color='red')\n",
        "plt.xlabel('Total Rooms')\n",
        "plt.ylabel('Price')\n",
        "plt.legend();"
      ],
      "execution_count": 88,
      "outputs": [
        {
          "output_type": "display_data",
          "data": {
            "image/png": "[encoded data removed]",
            "text/plain": [
              "<Figure size 432x288 with 1 Axes>"
            ]
          },
          "metadata": {
            "tags": [],
            "needs_background": "light"
          }
        }
      ]
    },
    {
      "cell_type": "markdown",
      "metadata": {
        "id": "JLkoEYpni35D"
      },
      "source": [
        "# Stretch Goal:  Linear Regression with 2 features"
      ]
    },
    {
      "cell_type": "code",
      "metadata": {
        "id": "zuXW_qrWi26j"
      },
      "source": [
        "target = 'price'\n",
        "features = ['total_rooms', 'perk_count']"
      ],
      "execution_count": 89,
      "outputs": []
    },
    {
      "cell_type": "code",
      "metadata": {
        "colab": {
          "base_uri": "https://localhost:8080/"
        },
        "id": "Q7pSJhxJjOs2",
        "outputId": "e89098f0-9406-4763-9ea3-322197c641e6"
      },
      "source": [
        "# Instatiate the model\n",
        "model2_lr = LinearRegression()\n",
        "\n",
        "# Get the features matrix and target vector\n",
        "X = df[features]\n",
        "y = df[target]\n",
        "\n",
        "# Fit the model\n",
        "model2_lr.fit(X, y)\n"
      ],
      "execution_count": 90,
      "outputs": [
        {
          "output_type": "execute_result",
          "data": {
            "text/plain": [
              "LinearRegression(copy_X=True, fit_intercept=True, n_jobs=None, normalize=False)"
            ]
          },
          "metadata": {
            "tags": []
          },
          "execution_count": 90
        }
      ]
    },
    {
      "cell_type": "code",
      "metadata": {
        "colab": {
          "base_uri": "https://localhost:8080/"
        },
        "id": "EIzjooBPj4Ra",
        "outputId": "eada3178-1a3d-4d28-8e06-3b7003257a6c"
      },
      "source": [
        "# Check the Metrics\n",
        "y_pred = model2_lr.predict(X)\n",
        "\n",
        "print('Linear Regression 2 Numeric Features: ', mean_absolute_error(y, y_pred))"
      ],
      "execution_count": 91,
      "outputs": [
        {
          "output_type": "stream",
          "text": [
            "Linear Regression 2 Numeric Features:  861.243292188433\n"
          ],
          "name": "stdout"
        }
      ]
    },
    {
      "cell_type": "code",
      "metadata": {
        "colab": {
          "base_uri": "https://localhost:8080/"
        },
        "id": "GE-4AF81kZvH",
        "outputId": "1647e6d0-defc-41d1-8793-d66c2522da2d"
      },
      "source": [
        "# Linear model and the coefficients\n",
        "\n",
        "intercept = round(model2_lr.intercept_)\n",
        "coef1 = round(model2_lr.coef_[0])\n",
        "coef2 = round(model2_lr.coef_[1])\n",
        "\n",
        "print(f'PRICE = {intercept} + ({coef1} * TOTAL ROOMS) + ({coef2} * PERK TOTAL)')"
      ],
      "execution_count": 92,
      "outputs": [
        {
          "output_type": "stream",
          "text": [
            "PRICE = 993 + (768 * TOTAL ROOMS) + (103 * PERK TOTAL)\n"
          ],
          "name": "stdout"
        }
      ]
    },
    {
      "cell_type": "code",
      "metadata": {
        "colab": {
          "base_uri": "https://localhost:8080/"
        },
        "id": "mrA6RVGXXHWW",
        "outputId": "7d3afdea-0511-4ecf-d344-ee112ee2b9b5"
      },
      "source": [
        "df.columns"
      ],
      "execution_count": 93,
      "outputs": [
        {
          "output_type": "execute_result",
          "data": {
            "text/plain": [
              "Index(['bathrooms', 'bedrooms', 'display_address', 'latitude', 'longitude',\n",
              "       'price', 'interest_level', 'elevator', 'cats_allowed',\n",
              "       'hardwood_floors', 'dogs_allowed', 'doorman', 'dishwasher', 'no_fee',\n",
              "       'laundry_in_building', 'fitness_center', 'pre-war', 'laundry_in_unit',\n",
              "       'roof_deck', 'outdoor_space', 'dining_room', 'high_speed_internet',\n",
              "       'balcony', 'swimming_pool', 'new_construction', 'terrace', 'exclusive',\n",
              "       'loft', 'garden_patio', 'wheelchair_access', 'common_outdoor_space',\n",
              "       'perk_count', 'total_rooms'],\n",
              "      dtype='object')"
            ]
          },
          "metadata": {
            "tags": []
          },
          "execution_count": 93
        }
      ]
    },
    {
      "cell_type": "code",
      "metadata": {
        "id": "ngb_MZ8GXCaC"
      },
      "source": [
        "feature = ['longitude']\n",
        "X_train = df[feature]"
      ],
      "execution_count": 94,
      "outputs": []
    },
    {
      "cell_type": "code",
      "metadata": {
        "colab": {
          "base_uri": "https://localhost:8080/"
        },
        "id": "__Ega5CHXgFs",
        "outputId": "f86ed54b-81b2-46ff-8116-d0ee7c0f5724"
      },
      "source": [
        "model = LinearRegression()\n",
        "\n",
        "model.fit(X_train, y)"
      ],
      "execution_count": 95,
      "outputs": [
        {
          "output_type": "execute_result",
          "data": {
            "text/plain": [
              "LinearRegression(copy_X=True, fit_intercept=True, n_jobs=None, normalize=False)"
            ]
          },
          "metadata": {
            "tags": []
          },
          "execution_count": 95
        }
      ]
    },
    {
      "cell_type": "code",
      "metadata": {
        "colab": {
          "base_uri": "https://localhost:8080/"
        },
        "id": "rgBIEj2PXtyc",
        "outputId": "74a6de6f-9c63-44cf-9b09-e262af370135"
      },
      "source": [
        "print(f'Linear Regression Longitude MAE:  ${mean_absolute_error(y, model.predict(X_train)):,.0f}')"
      ],
      "execution_count": 96,
      "outputs": [
        {
          "output_type": "stream",
          "text": [
            "Linear Regression Longitude MAE:  $1,144\n"
          ],
          "name": "stdout"
        }
      ]
    },
    {
      "cell_type": "code",
      "metadata": {
        "colab": {
          "base_uri": "https://localhost:8080/",
          "height": 282
        },
        "id": "VUyfXEQTYSo2",
        "outputId": "934a4ef7-c816-41f9-d9a7-e163e92d8ff0"
      },
      "source": [
        "plt.scatter(df['latitude'], df['longitude'])"
      ],
      "execution_count": 97,
      "outputs": [
        {
          "output_type": "execute_result",
          "data": {
            "text/plain": [
              "<matplotlib.collections.PathCollection at 0x7f2080e2b7d0>"
            ]
          },
          "metadata": {
            "tags": []
          },
          "execution_count": 97
        },
        {
          "output_type": "display_data",
          "data": {
            "image/png": "[encoded data removed]",
            "text/plain": [
              "<Figure size 432x288 with 1 Axes>"
            ]
          },
          "metadata": {
            "tags": [],
            "needs_background": "light"
          }
        }
      ]
    },
    {
      "cell_type": "code",
      "metadata": {
        "colab": {
          "base_uri": "https://localhost:8080/",
          "height": 431
        },
        "id": "HAAehjLKZEHQ",
        "outputId": "41c2a7c6-54a3-4388-feb8-3f1afcdf2560"
      },
      "source": [
        "df.head()"
      ],
      "execution_count": 98,
      "outputs": [
        {
          "output_type": "execute_result",
          "data": {
            "text/html": [
              "<div>\n",
              "<style scoped>\n",
              "    .dataframe tbody tr th:only-of-type {\n",
              "        vertical-align: middle;\n",
              "    }\n",
              "\n",
              "    .dataframe tbody tr th {\n",
              "        vertical-align: top;\n",
              "    }\n",
              "\n",
              "    .dataframe thead th {\n",
              "        text-align: right;\n",
              "    }\n",
              "</style>\n",
              "<table border=\"1\" class=\"dataframe\">\n",
              "  <thead>\n",
              "    <tr style=\"text-align: right;\">\n",
              "      <th></th>\n",
              "      <th>bathrooms</th>\n",
              "      <th>bedrooms</th>\n",
              "      <th>display_address</th>\n",
              "      <th>latitude</th>\n",
              "      <th>longitude</th>\n",
              "      <th>price</th>\n",
              "      <th>interest_level</th>\n",
              "      <th>elevator</th>\n",
              "      <th>cats_allowed</th>\n",
              "      <th>hardwood_floors</th>\n",
              "      <th>dogs_allowed</th>\n",
              "      <th>doorman</th>\n",
              "      <th>dishwasher</th>\n",
              "      <th>no_fee</th>\n",
              "      <th>laundry_in_building</th>\n",
              "      <th>fitness_center</th>\n",
              "      <th>pre-war</th>\n",
              "      <th>laundry_in_unit</th>\n",
              "      <th>roof_deck</th>\n",
              "      <th>outdoor_space</th>\n",
              "      <th>dining_room</th>\n",
              "      <th>high_speed_internet</th>\n",
              "      <th>balcony</th>\n",
              "      <th>swimming_pool</th>\n",
              "      <th>new_construction</th>\n",
              "      <th>terrace</th>\n",
              "      <th>exclusive</th>\n",
              "      <th>loft</th>\n",
              "      <th>garden_patio</th>\n",
              "      <th>wheelchair_access</th>\n",
              "      <th>common_outdoor_space</th>\n",
              "      <th>perk_count</th>\n",
              "      <th>total_rooms</th>\n",
              "    </tr>\n",
              "    <tr>\n",
              "      <th>created</th>\n",
              "      <th></th>\n",
              "      <th></th>\n",
              "      <th></th>\n",
              "      <th></th>\n",
              "      <th></th>\n",
              "      <th></th>\n",
              "      <th></th>\n",
              "      <th></th>\n",
              "      <th></th>\n",
              "      <th></th>\n",
              "      <th></th>\n",
              "      <th></th>\n",
              "      <th></th>\n",
              "      <th></th>\n",
              "      <th></th>\n",
              "      <th></th>\n",
              "      <th></th>\n",
              "      <th></th>\n",
              "      <th></th>\n",
              "      <th></th>\n",
              "      <th></th>\n",
              "      <th></th>\n",
              "      <th></th>\n",
              "      <th></th>\n",
              "      <th></th>\n",
              "      <th></th>\n",
              "      <th></th>\n",
              "      <th></th>\n",
              "      <th></th>\n",
              "      <th></th>\n",
              "      <th></th>\n",
              "      <th></th>\n",
              "      <th></th>\n",
              "    </tr>\n",
              "  </thead>\n",
              "  <tbody>\n",
              "    <tr>\n",
              "      <th>2016-06-24 07:54:24</th>\n",
              "      <td>1.5</td>\n",
              "      <td>3</td>\n",
              "      <td>Metropolitan Avenue</td>\n",
              "      <td>40.7145</td>\n",
              "      <td>-73.9425</td>\n",
              "      <td>3000</td>\n",
              "      <td>medium</td>\n",
              "      <td>0</td>\n",
              "      <td>0</td>\n",
              "      <td>0</td>\n",
              "      <td>0</td>\n",
              "      <td>0</td>\n",
              "      <td>0</td>\n",
              "      <td>0</td>\n",
              "      <td>0</td>\n",
              "      <td>0</td>\n",
              "      <td>0</td>\n",
              "      <td>0</td>\n",
              "      <td>0</td>\n",
              "      <td>0</td>\n",
              "      <td>0</td>\n",
              "      <td>0</td>\n",
              "      <td>0</td>\n",
              "      <td>0</td>\n",
              "      <td>0</td>\n",
              "      <td>0</td>\n",
              "      <td>0</td>\n",
              "      <td>0</td>\n",
              "      <td>0</td>\n",
              "      <td>0</td>\n",
              "      <td>0</td>\n",
              "      <td>0</td>\n",
              "      <td>4.5</td>\n",
              "    </tr>\n",
              "    <tr>\n",
              "      <th>2016-06-12 12:19:27</th>\n",
              "      <td>1.0</td>\n",
              "      <td>2</td>\n",
              "      <td>Columbus Avenue</td>\n",
              "      <td>40.7947</td>\n",
              "      <td>-73.9667</td>\n",
              "      <td>5465</td>\n",
              "      <td>low</td>\n",
              "      <td>1</td>\n",
              "      <td>1</td>\n",
              "      <td>0</td>\n",
              "      <td>1</td>\n",
              "      <td>1</td>\n",
              "      <td>0</td>\n",
              "      <td>0</td>\n",
              "      <td>0</td>\n",
              "      <td>1</td>\n",
              "      <td>0</td>\n",
              "      <td>0</td>\n",
              "      <td>0</td>\n",
              "      <td>0</td>\n",
              "      <td>0</td>\n",
              "      <td>0</td>\n",
              "      <td>0</td>\n",
              "      <td>0</td>\n",
              "      <td>0</td>\n",
              "      <td>0</td>\n",
              "      <td>0</td>\n",
              "      <td>0</td>\n",
              "      <td>0</td>\n",
              "      <td>0</td>\n",
              "      <td>0</td>\n",
              "      <td>5</td>\n",
              "      <td>3.0</td>\n",
              "    </tr>\n",
              "    <tr>\n",
              "      <th>2016-04-17 03:26:41</th>\n",
              "      <td>1.0</td>\n",
              "      <td>1</td>\n",
              "      <td>W 13 Street</td>\n",
              "      <td>40.7388</td>\n",
              "      <td>-74.0018</td>\n",
              "      <td>2850</td>\n",
              "      <td>high</td>\n",
              "      <td>0</td>\n",
              "      <td>0</td>\n",
              "      <td>1</td>\n",
              "      <td>0</td>\n",
              "      <td>0</td>\n",
              "      <td>1</td>\n",
              "      <td>0</td>\n",
              "      <td>1</td>\n",
              "      <td>0</td>\n",
              "      <td>0</td>\n",
              "      <td>0</td>\n",
              "      <td>0</td>\n",
              "      <td>0</td>\n",
              "      <td>0</td>\n",
              "      <td>0</td>\n",
              "      <td>0</td>\n",
              "      <td>0</td>\n",
              "      <td>0</td>\n",
              "      <td>0</td>\n",
              "      <td>0</td>\n",
              "      <td>0</td>\n",
              "      <td>0</td>\n",
              "      <td>0</td>\n",
              "      <td>0</td>\n",
              "      <td>3</td>\n",
              "      <td>2.0</td>\n",
              "    </tr>\n",
              "    <tr>\n",
              "      <th>2016-04-18 02:22:02</th>\n",
              "      <td>1.0</td>\n",
              "      <td>1</td>\n",
              "      <td>East 49th Street</td>\n",
              "      <td>40.7539</td>\n",
              "      <td>-73.9677</td>\n",
              "      <td>3275</td>\n",
              "      <td>low</td>\n",
              "      <td>0</td>\n",
              "      <td>0</td>\n",
              "      <td>1</td>\n",
              "      <td>0</td>\n",
              "      <td>0</td>\n",
              "      <td>0</td>\n",
              "      <td>1</td>\n",
              "      <td>0</td>\n",
              "      <td>0</td>\n",
              "      <td>0</td>\n",
              "      <td>0</td>\n",
              "      <td>0</td>\n",
              "      <td>0</td>\n",
              "      <td>0</td>\n",
              "      <td>0</td>\n",
              "      <td>0</td>\n",
              "      <td>0</td>\n",
              "      <td>0</td>\n",
              "      <td>0</td>\n",
              "      <td>0</td>\n",
              "      <td>0</td>\n",
              "      <td>0</td>\n",
              "      <td>0</td>\n",
              "      <td>0</td>\n",
              "      <td>2</td>\n",
              "      <td>2.0</td>\n",
              "    </tr>\n",
              "    <tr>\n",
              "      <th>2016-04-28 01:32:41</th>\n",
              "      <td>1.0</td>\n",
              "      <td>4</td>\n",
              "      <td>West 143rd Street</td>\n",
              "      <td>40.8241</td>\n",
              "      <td>-73.9493</td>\n",
              "      <td>3350</td>\n",
              "      <td>low</td>\n",
              "      <td>0</td>\n",
              "      <td>0</td>\n",
              "      <td>0</td>\n",
              "      <td>0</td>\n",
              "      <td>0</td>\n",
              "      <td>0</td>\n",
              "      <td>0</td>\n",
              "      <td>0</td>\n",
              "      <td>0</td>\n",
              "      <td>1</td>\n",
              "      <td>0</td>\n",
              "      <td>0</td>\n",
              "      <td>0</td>\n",
              "      <td>0</td>\n",
              "      <td>0</td>\n",
              "      <td>0</td>\n",
              "      <td>0</td>\n",
              "      <td>0</td>\n",
              "      <td>0</td>\n",
              "      <td>0</td>\n",
              "      <td>0</td>\n",
              "      <td>0</td>\n",
              "      <td>0</td>\n",
              "      <td>0</td>\n",
              "      <td>1</td>\n",
              "      <td>5.0</td>\n",
              "    </tr>\n",
              "  </tbody>\n",
              "</table>\n",
              "</div>"
            ],
            "text/plain": [
              "                     bathrooms  bedrooms  ... perk_count  total_rooms\n",
              "created                                   ...                        \n",
              "2016-06-24 07:54:24        1.5         3  ...          0          4.5\n",
              "2016-06-12 12:19:27        1.0         2  ...          5          3.0\n",
              "2016-04-17 03:26:41        1.0         1  ...          3          2.0\n",
              "2016-04-18 02:22:02        1.0         1  ...          2          2.0\n",
              "2016-04-28 01:32:41        1.0         4  ...          1          5.0\n",
              "\n",
              "[5 rows x 33 columns]"
            ]
          },
          "metadata": {
            "tags": []
          },
          "execution_count": 98
        }
      ]
    },
    {
      "cell_type": "markdown",
      "metadata": {
        "id": "brh2KDNrfh1_"
      },
      "source": [
        ""
      ]
    },
    {
      "cell_type": "code",
      "metadata": {
        "colab": {
          "base_uri": "https://localhost:8080/"
        },
        "id": "Ar6MxEJMaShR",
        "outputId": "6e28851f-3157-417a-bf6d-e9551c8b22ae"
      },
      "source": [
        "df['latitude'][0], df['longitude'][0]"
      ],
      "execution_count": 99,
      "outputs": [
        {
          "output_type": "execute_result",
          "data": {
            "text/plain": [
              "(40.7145, -73.9425)"
            ]
          },
          "metadata": {
            "tags": []
          },
          "execution_count": 99
        }
      ]
    },
    {
      "cell_type": "code",
      "metadata": {
        "colab": {
          "base_uri": "https://localhost:8080/"
        },
        "id": "XlkWMB6eYhPR",
        "outputId": "63e379a1-04b8-4bbc-d949-25feb9de9c82"
      },
      "source": [
        "manhattan_lat = 40.7829\n",
        "manhattan_lon = -73.9711\n",
        "\n",
        "def distance(x, y , lat, lon):\n",
        "  distance = np.sqrt(((lat - x)**2.0 + (lon - y)**2.0))\n",
        "\n",
        "  return distance\n",
        "\n",
        "distance(df['latitude'][0], df['longitude'][0], manhattan_lat, manhattan_lon)"
      ],
      "execution_count": 100,
      "outputs": [
        {
          "output_type": "execute_result",
          "data": {
            "text/plain": [
              "0.07413851900328354"
            ]
          },
          "metadata": {
            "tags": []
          },
          "execution_count": 100
        }
      ]
    },
    {
      "cell_type": "code",
      "metadata": {
        "id": "DsipFtEZZ7Be"
      },
      "source": [
        "df['distance_from_Manhattan'] = np.sqrt((manhattan_lat - df['latitude'])**2 + \n",
        "                                        (manhattan_lon - df['longitude'])**2)"
      ],
      "execution_count": 101,
      "outputs": []
    },
    {
      "cell_type": "code",
      "metadata": {
        "colab": {
          "base_uri": "https://localhost:8080/",
          "height": 283
        },
        "id": "BHV5CkV5eBMo",
        "outputId": "0a827036-192d-465c-a657-ad6859b9c19d"
      },
      "source": [
        "plt.scatter(df['distance_from_Manhattan'], df['price'])"
      ],
      "execution_count": 102,
      "outputs": [
        {
          "output_type": "execute_result",
          "data": {
            "text/plain": [
              "<matplotlib.collections.PathCollection at 0x7f2081328d50>"
            ]
          },
          "metadata": {
            "tags": []
          },
          "execution_count": 102
        },
        {
          "output_type": "display_data",
          "data": {
            "image/png": "[encoded data removed]",
            "text/plain": [
              "<Figure size 432x288 with 1 Axes>"
            ]
          },
          "metadata": {
            "tags": [],
            "needs_background": "light"
          }
        }
      ]
    },
    {
      "cell_type": "code",
      "metadata": {
        "colab": {
          "base_uri": "https://localhost:8080/"
        },
        "id": "EnjTw_hVeQxC",
        "outputId": "3dc6ec11-9856-45df-928a-e59f76359476"
      },
      "source": [
        "features = ['distance_from_Manhattan', 'total_rooms', 'perk_count']\n",
        "X = df[features]\n",
        "X.shape"
      ],
      "execution_count": 103,
      "outputs": [
        {
          "output_type": "execute_result",
          "data": {
            "text/plain": [
              "(48818, 3)"
            ]
          },
          "metadata": {
            "tags": []
          },
          "execution_count": 103
        }
      ]
    },
    {
      "cell_type": "code",
      "metadata": {
        "colab": {
          "base_uri": "https://localhost:8080/"
        },
        "id": "3NOuS2O2epGi",
        "outputId": "478c6298-0c4f-4467-d5b7-12e8a26c80c1"
      },
      "source": [
        "model = LinearRegression()\n",
        "\n",
        "model.fit(X, y)"
      ],
      "execution_count": 104,
      "outputs": [
        {
          "output_type": "execute_result",
          "data": {
            "text/plain": [
              "LinearRegression(copy_X=True, fit_intercept=True, n_jobs=None, normalize=False)"
            ]
          },
          "metadata": {
            "tags": []
          },
          "execution_count": 104
        }
      ]
    },
    {
      "cell_type": "code",
      "metadata": {
        "colab": {
          "base_uri": "https://localhost:8080/"
        },
        "id": "J8CcdKM1ev1m",
        "outputId": "937449d0-a31b-45e3-ccb4-858c4d650641"
      },
      "source": [
        "print(f'LR for distance from Manhattan:  ${mean_absolute_error(y, model.predict(X)):,.0f}')"
      ],
      "execution_count": 105,
      "outputs": [
        {
          "output_type": "stream",
          "text": [
            "LR for distance from Manhattan:  $848\n"
          ],
          "name": "stdout"
        }
      ]
    },
    {
      "cell_type": "code",
      "metadata": {
        "colab": {
          "base_uri": "https://localhost:8080/"
        },
        "id": "Y8y8H454frTq",
        "outputId": "d8594c1f-dedd-46b9-ed21-ff69a3515100"
      },
      "source": [
        "print(f'PRICE = {model.intercept_:,.0f} - ({-model.coef_[0]:,.0f} * LOCATION) + ({model.coef_[1]:,.0f} * ROOMS) + ({model.coef_[2]:,.0f} * perks)')"
      ],
      "execution_count": 106,
      "outputs": [
        {
          "output_type": "stream",
          "text": [
            "PRICE = 1,436 - (8,892 * LOCATION) + (775 * ROOMS) + (97 * perks)\n"
          ],
          "name": "stdout"
        }
      ]
    },
    {
      "cell_type": "code",
      "metadata": {
        "id": "RHzh5oHNgfPA"
      },
      "source": [
        "from sklearn.preprocessing import StandardScaler\n",
        "from sklearn.pipeline import make_pipeline\n",
        "from sklearn.impute import SimpleImputer\n",
        "\n",
        "pipeline = make_pipeline(\n",
        "    SimpleImputer(strategy='median'),\n",
        "    StandardScaler(),\n",
        "    LinearRegression()\n",
        ")\n",
        "\n",
        "pipeline.fit(X, y);"
      ],
      "execution_count": 107,
      "outputs": []
    },
    {
      "cell_type": "code",
      "metadata": {
        "colab": {
          "base_uri": "https://localhost:8080/"
        },
        "id": "jYNfeDoOhrTv",
        "outputId": "70247a19-dafc-4095-ffe2-f7003fa7ba34"
      },
      "source": [
        "print(f'LR for distance from Manhattan:  ${mean_absolute_error(y, model.predict(X)):,.0f}')"
      ],
      "execution_count": 108,
      "outputs": [
        {
          "output_type": "stream",
          "text": [
            "LR for distance from Manhattan:  $848\n"
          ],
          "name": "stdout"
        }
      ]
    },
    {
      "cell_type": "code",
      "metadata": {
        "colab": {
          "base_uri": "https://localhost:8080/"
        },
        "id": "-tNYQi9Nhxne",
        "outputId": "6d8f21b4-2e00-4aaf-902d-d21a4259f036"
      },
      "source": [
        "print(f'PRICE = {model.intercept_:,.0f} - ({-model.coef_[0]:,.0f} * LOCATION) + ({model.coef_[1]:,.0f} * ROOMS) + ({model.coef_[2]:,.0f} * perks)')"
      ],
      "execution_count": 109,
      "outputs": [
        {
          "output_type": "stream",
          "text": [
            "PRICE = 1,436 - (8,892 * LOCATION) + (775 * ROOMS) + (97 * perks)\n"
          ],
          "name": "stdout"
        }
      ]
    }
  ]
}