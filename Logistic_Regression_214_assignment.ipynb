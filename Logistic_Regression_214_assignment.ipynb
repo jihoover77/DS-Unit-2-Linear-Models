{
  "nbformat": 4,
  "nbformat_minor": 0,
  "metadata": {
    "kernelspec": {
      "display_name": "Python 3",
      "language": "python",
      "name": "python3"
    },
    "language_info": {
      "codemirror_mode": {
        "name": "ipython",
        "version": 3
      },
      "file_extension": ".py",
      "mimetype": "text/x-python",
      "name": "python",
      "nbconvert_exporter": "python",
      "pygments_lexer": "ipython3",
      "version": "3.7.3"
    },
    "colab": {
      "name": "Logistic_Regression_214_assignment.ipynb",
      "provenance": [],
      "collapsed_sections": [],
      "include_colab_link": true
    }
  },
  "cells": [
    {
      "cell_type": "markdown",
      "metadata": {
        "id": "view-in-github",
        "colab_type": "text"
      },
      "source": [
        "<a href=\"https://colab.research.google.com/github/jihoover77/DS-Unit-2-Linear-Models/blob/master/Logistic_Regression_214_assignment.ipynb\" target=\"_parent\"><img src=\"https://colab.research.google.com/assets/colab-badge.svg\" alt=\"Open In Colab\"/></a>"
      ]
    },
    {
      "cell_type": "markdown",
      "metadata": {
        "id": "DdiFNqfXzEQB"
      },
      "source": [
        "Lambda School Data Science\n",
        "\n",
        "*Unit 2, Sprint 1, Module 4*\n",
        "\n",
        "---"
      ]
    },
    {
      "cell_type": "markdown",
      "metadata": {
        "id": "7IXUfiQ2UKj6"
      },
      "source": [
        "# Logistic Regression\n",
        "\n",
        "\n",
        "## Assignment 🌯\n",
        "\n",
        "You'll use a [**dataset of 400+ burrito reviews**](https://srcole.github.io/100burritos/). How accurately can you predict whether a burrito is rated 'Great'?\n",
        "\n",
        "> We have developed a 10-dimensional system for rating the burritos in San Diego. ... Generate models for what makes a burrito great and investigate correlations in its dimensions.\n",
        "\n",
        "- [ ] Do train/validate/test split. Train on reviews from 2016 & earlier. Validate on 2017. Test on 2018 & later.\n",
        "- [ ] Begin with baselines for classification.\n",
        "- [ ] Use scikit-learn for logistic regression.\n",
        "- [ ] Get your model's validation accuracy. (Multiple times if you try multiple iterations.)\n",
        "- [ ] Get your model's test accuracy. (One time, at the end.)\n",
        "- [ ] Commit your notebook to your fork of the GitHub repo.\n",
        "\n",
        "\n",
        "## Stretch Goals\n",
        "\n",
        "- [ ] Add your own stretch goal(s) !\n",
        "- [ ] Make exploratory visualizations.\n",
        "- [ ] Do one-hot encoding.\n",
        "- [ ] Do [feature scaling](https://scikit-learn.org/stable/modules/preprocessing.html).\n",
        "- [ ] Get and plot your coefficients.\n",
        "- [ ] Try [scikit-learn pipelines](https://scikit-learn.org/stable/modules/compose.html)."
      ]
    },
    {
      "cell_type": "code",
      "metadata": {
        "id": "o9eSnDYhUGD7"
      },
      "source": [
        "%%capture\n",
        "import sys\n",
        "\n",
        "# If you're on Colab:\n",
        "if 'google.colab' in sys.modules:\n",
        "    DATA_PATH = 'https://raw.githubusercontent.com/LambdaSchool/DS-Unit-2-Linear-Models/master/data/'\n",
        "    !pip install category_encoders==2.*\n",
        "\n",
        "# If you're working locally:\n",
        "else:\n",
        "    DATA_PATH = '../data/'"
      ],
      "execution_count": 1,
      "outputs": []
    },
    {
      "cell_type": "code",
      "metadata": {
        "id": "fjHZvRHYzbWG",
        "colab": {
          "base_uri": "https://localhost:8080/"
        },
        "outputId": "0f539c68-ee87-41d4-946f-3e2c9edbff89"
      },
      "source": [
        "# import libraries\n",
        "%matplotlib inline\n",
        "import pandas as pd\n",
        "import numpy as np\n",
        "import matplotlib.pyplot as plt\n",
        "import category_encoders as ce \n",
        "from sklearn.linear_model import LogisticRegression, LogisticRegressionCV\n",
        "from sklearn.preprocessing import StandardScaler\n",
        "from sklearn.impute import SimpleImputer\n",
        "from sklearn.pipeline import make_pipeline"
      ],
      "execution_count": 2,
      "outputs": [
        {
          "output_type": "stream",
          "text": [
            "/usr/local/lib/python3.7/dist-packages/statsmodels/tools/_testing.py:19: FutureWarning: pandas.util.testing is deprecated. Use the functions in the public API at pandas.testing instead.\n",
            "  import pandas.util.testing as tm\n"
          ],
          "name": "stderr"
        }
      ]
    },
    {
      "cell_type": "markdown",
      "metadata": {
        "id": "wgT-A0KI07qA"
      },
      "source": [
        "# I.  Wrangle my dataset"
      ]
    },
    {
      "cell_type": "code",
      "metadata": {
        "id": "WWNH8UUY03zf"
      },
      "source": [
        "# Load data downloaded from https://srcole.github.io/100burritos/\n",
        "def wrangle(filepath):\n",
        "  df = pd.read_csv(filepath,\n",
        "                   parse_dates=['Date'],\n",
        "                   index_col='Date')\n",
        "  \n",
        "  # Drop high cardinality columns\n",
        "  high_card_cols = ['Location','Neighborhood', 'Address', 'URL', 'Reviewer', 'Notes']\n",
        "  df.drop(columns=high_card_cols, inplace=True)\n",
        "\n",
        "  # Derive binary classification target:\n",
        "  # We define a 'Great' burrito as having an\n",
        "  # overall rating of 4 or higher, on a 5 point scale.\n",
        "  # Drop unrated burritos.\n",
        "  df = df.dropna(subset=['overall'])\n",
        "  df['Great'] = df['overall'] >= 4\n",
        "  df.drop(columns=['overall'])\n",
        "\n",
        "  # Clean/combine the Burrito categories\n",
        "  df['Burrito'] = df['Burrito'].str.lower()\n",
        "\n",
        "  california = df['Burrito'].str.contains('california')\n",
        "  asada = df['Burrito'].str.contains('asada')\n",
        "  surf = df['Burrito'].str.contains('surf')\n",
        "  carnitas = df['Burrito'].str.contains('carnitas')\n",
        "\n",
        "  df.loc[california, 'Burrito'] = 'California'\n",
        "  df.loc[asada, 'Burrito'] = 'Asada'\n",
        "  df.loc[surf, 'Burrito'] = 'Surf & Turf'\n",
        "  df.loc[carnitas, 'Burrito'] = 'Carnitas'\n",
        "  df.loc[~california & ~asada & ~surf & ~carnitas, 'Burrito'] = 'Other'\n",
        "\n",
        "  # Drop some columns to prevent \"leakage\"\n",
        "  df = df.drop(columns=['Rec', 'Queso'])\n",
        "\n",
        "  return df\n",
        "df = wrangle(DATA_PATH+'burritos/burritos.csv')"
      ],
      "execution_count": 3,
      "outputs": []
    },
    {
      "cell_type": "markdown",
      "metadata": {
        "id": "1XeWGMMq6KQT"
      },
      "source": [
        "# II. Split dataset into train/validate/test"
      ]
    },
    {
      "cell_type": "code",
      "metadata": {
        "id": "t_5bMbnOzEQL",
        "colab": {
          "base_uri": "https://localhost:8080/"
        },
        "outputId": "79cd5ed7-0998-4ef9-ec7d-191879c09e20"
      },
      "source": [
        "# Do train/validate/test split. Train on reviews from 2016 & earlier. Validate on 2017. Test on 2018\n",
        "target = 'Great'\n",
        "y = df[target]\n",
        "X = df.drop(columns=target)\n",
        "\n",
        "\n",
        "X.shape, y.shape\n"
      ],
      "execution_count": 4,
      "outputs": [
        {
          "output_type": "execute_result",
          "data": {
            "text/plain": [
              "((421, 57), (421,))"
            ]
          },
          "metadata": {
            "tags": []
          },
          "execution_count": 4
        }
      ]
    },
    {
      "cell_type": "code",
      "metadata": {
        "id": "ddkfZLZwzEQL"
      },
      "source": [
        "cutoff_1 = '2017-01-01'\n",
        "mask_1 = df.index < cutoff_1\n",
        "cutoff_2 = '2018-01-01'\n",
        "mask_2 = (df.index < cutoff_2) & (df.index >= cutoff_1)\n",
        "mask_3 = df.index > cutoff_2\n",
        "\n",
        "X_train, y_train = X.loc[mask_1], y.loc[mask_1]\n",
        "X_val, y_val = X.loc[mask_2], y.loc[mask_2]\n",
        "\n",
        "X_train.shape, y_train.shape, X_val.shape, y_val.shape\n",
        "\n",
        "# Create the test set\n",
        "\n",
        "X_test, y_test = X.loc[mask_3], y.loc[mask_3]"
      ],
      "execution_count": 5,
      "outputs": []
    },
    {
      "cell_type": "markdown",
      "metadata": {
        "id": "tudHP463_C7N"
      },
      "source": [
        "# Establish the baseline accuracy"
      ]
    },
    {
      "cell_type": "code",
      "metadata": {
        "colab": {
          "base_uri": "https://localhost:8080/"
        },
        "id": "om-LRt1t8XV1",
        "outputId": "113a9d02-e8ae-4fbb-ee01-f0e176349543"
      },
      "source": [
        "y_baseline = y.value_counts(normalize=True).max()\n",
        "\n",
        "print(f'Baseline accuracy:  {100 * y_baseline:,.1f}%')"
      ],
      "execution_count": 6,
      "outputs": [
        {
          "output_type": "stream",
          "text": [
            "Baseline accuracy:  56.8%\n"
          ],
          "name": "stdout"
        }
      ]
    },
    {
      "cell_type": "markdown",
      "metadata": {
        "id": "U5k2v7arAGL4"
      },
      "source": [
        "# Build the Model"
      ]
    },
    {
      "cell_type": "code",
      "metadata": {
        "colab": {
          "base_uri": "https://localhost:8080/"
        },
        "id": "8IEtne8p_LBY",
        "outputId": "d7895b42-df1b-437e-d5b5-319d32197567"
      },
      "source": [
        "model = make_pipeline(\n",
        "    ce.OneHotEncoder(use_cat_names=True),\n",
        "    SimpleImputer(strategy='mean'),\n",
        "    StandardScaler(),\n",
        "    LogisticRegression()\n",
        ")\n",
        "\n",
        "model.fit(X_train, y_train);"
      ],
      "execution_count": 7,
      "outputs": [
        {
          "output_type": "stream",
          "text": [
            "/usr/local/lib/python3.7/dist-packages/category_encoders/utils.py:21: FutureWarning: is_categorical is deprecated and will be removed in a future version.  Use is_categorical_dtype instead\n",
            "  elif pd.api.types.is_categorical(cols):\n"
          ],
          "name": "stderr"
        }
      ]
    },
    {
      "cell_type": "code",
      "metadata": {
        "colab": {
          "base_uri": "https://localhost:8080/"
        },
        "id": "DdqGjXkWAlVE",
        "outputId": "5d455cc9-a948-4cac-d053-715420d8cd89"
      },
      "source": [
        "print(f'Logistic regression training accuracy:  {100 * model.score(X_train, y_train):,.1f}')\n",
        "print(f'Logistic regression validation accuracy:  {100 * model.score(X_val, y_val):,.1f}')"
      ],
      "execution_count": 18,
      "outputs": [
        {
          "output_type": "stream",
          "text": [
            "Logistic regression training accuracy:  98.3\n",
            "Logistic regression validation accuracy:  83.5\n"
          ],
          "name": "stdout"
        }
      ]
    },
    {
      "cell_type": "code",
      "metadata": {
        "colab": {
          "base_uri": "https://localhost:8080/"
        },
        "id": "Nf2kmUe7Rrjn",
        "outputId": "6431f370-5e27-4628-d302-a2f710b99319"
      },
      "source": [
        "len(model.named_steps['logisticregression'].coef_[0])"
      ],
      "execution_count": 9,
      "outputs": [
        {
          "output_type": "execute_result",
          "data": {
            "text/plain": [
              "121"
            ]
          },
          "metadata": {
            "tags": []
          },
          "execution_count": 9
        }
      ]
    },
    {
      "cell_type": "code",
      "metadata": {
        "colab": {
          "base_uri": "https://localhost:8080/"
        },
        "id": "ne-Xf3bQRywN",
        "outputId": "b4fbeee4-3814-48a4-9c16-813c70748c42"
      },
      "source": [
        "len(model.named_steps['onehotencoder'].get_feature_names())"
      ],
      "execution_count": 10,
      "outputs": [
        {
          "output_type": "execute_result",
          "data": {
            "text/plain": [
              "123"
            ]
          },
          "metadata": {
            "tags": []
          },
          "execution_count": 10
        }
      ]
    },
    {
      "cell_type": "code",
      "metadata": {
        "colab": {
          "base_uri": "https://localhost:8080/"
        },
        "id": "RLPY-xayShfu",
        "outputId": "33b3be0a-664f-427e-ce23-c930d0894b0e"
      },
      "source": [
        "print(model)"
      ],
      "execution_count": 11,
      "outputs": [
        {
          "output_type": "stream",
          "text": [
            "Pipeline(memory=None,\n",
            "         steps=[('onehotencoder',\n",
            "                 OneHotEncoder(cols=['Burrito', 'Chips', 'Unreliable', 'NonSD',\n",
            "                                     'Beef', 'Pico', 'Guac', 'Cheese', 'Fries',\n",
            "                                     'Sour cream', 'Pork', 'Chicken', 'Shrimp',\n",
            "                                     'Fish', 'Rice', 'Beans', 'Lettuce',\n",
            "                                     'Tomato', 'Bell peper', 'Carrots',\n",
            "                                     'Cabbage', 'Sauce', 'Salsa.1', 'Cilantro',\n",
            "                                     'Onion', 'Taquito', 'Pineapple', 'Ham',\n",
            "                                     'Chile relleno', 'Nopales', ...],\n",
            "                               dr...\n",
            "                               verbose=0)),\n",
            "                ('standardscaler',\n",
            "                 StandardScaler(copy=True, with_mean=True, with_std=True)),\n",
            "                ('logisticregression',\n",
            "                 LogisticRegression(C=1.0, class_weight=None, dual=False,\n",
            "                                    fit_intercept=True, intercept_scaling=1,\n",
            "                                    l1_ratio=None, max_iter=100,\n",
            "                                    multi_class='auto', n_jobs=None,\n",
            "                                    penalty='l2', random_state=None,\n",
            "                                    solver='lbfgs', tol=0.0001, verbose=0,\n",
            "                                    warm_start=False))],\n",
            "         verbose=False)\n"
          ],
          "name": "stdout"
        }
      ]
    },
    {
      "cell_type": "code",
      "metadata": {
        "colab": {
          "base_uri": "https://localhost:8080/",
          "height": 281
        },
        "id": "VvuXWDMkBha1",
        "outputId": "8be61087-8bc4-4b83-d386-a1c6916b2129"
      },
      "source": [
        "coefficients = model.named_steps['logisticregression'].coef_.flatten()\n",
        "features = model.named_steps['onehotencoder'].get_feature_names()[0:121]\n",
        "feat_imp = pd.Series(coefficients, index=features).sort_values(key=abs)\n",
        "feat_imp.tail(10).plot(kind='barh')\n",
        "plt.title('Top 10 Coefficients for Logistic Regression');"
      ],
      "execution_count": 12,
      "outputs": [
        {
          "output_type": "display_data",
          "data": {
            "image/png": "[encoded data removed]",
            "text/plain": [
              "<Figure size 432x288 with 1 Axes>"
            ]
          },
          "metadata": {
            "tags": [],
            "needs_background": "light"
          }
        }
      ]
    },
    {
      "cell_type": "code",
      "metadata": {
        "colab": {
          "base_uri": "https://localhost:8080/"
        },
        "id": "oGl1hZz0HqUf",
        "outputId": "2ae6d99c-5ef0-4924-d5f2-e9217d8b46d0"
      },
      "source": [
        "model_1 = make_pipeline(\n",
        "    ce.OneHotEncoder(use_cat_names=True),\n",
        "    SimpleImputer(strategy='mean'),\n",
        "    StandardScaler(),\n",
        "    LogisticRegressionCV(max_iter=500)\n",
        ")\n",
        "\n",
        "model_1.fit(X_train, y_train);"
      ],
      "execution_count": 13,
      "outputs": [
        {
          "output_type": "stream",
          "text": [
            "/usr/local/lib/python3.7/dist-packages/category_encoders/utils.py:21: FutureWarning: is_categorical is deprecated and will be removed in a future version.  Use is_categorical_dtype instead\n",
            "  elif pd.api.types.is_categorical(cols):\n"
          ],
          "name": "stderr"
        }
      ]
    },
    {
      "cell_type": "code",
      "metadata": {
        "colab": {
          "base_uri": "https://localhost:8080/"
        },
        "id": "2z8QYC56Im0o",
        "outputId": "400d6295-ab27-4bc8-9571-bcaedd8f64a2"
      },
      "source": [
        "print(f'Logistic regressionCV training accuracy:  {100 * model_1.score(X_train, y_train):,.2f}')\n",
        "print(f'Logistic regressionCV validation accuracy:  {100 * model_1.score(X_val, y_val):,.2f}')"
      ],
      "execution_count": 17,
      "outputs": [
        {
          "output_type": "stream",
          "text": [
            "Logistic regressionCV training accuracy:  100.00\n",
            "Logistic regressionCV validation accuracy:  90.59\n"
          ],
          "name": "stdout"
        }
      ]
    },
    {
      "cell_type": "code",
      "metadata": {
        "colab": {
          "base_uri": "https://localhost:8080/"
        },
        "id": "Ci4ba6QIIzYW",
        "outputId": "3cd897ac-c78a-40a3-d028-71daef04a906"
      },
      "source": [
        "print(f'Logistic regressionCV training accuracy:  {100 * model.score(X_train, y_train):,.1f}')\n",
        "print(f'Logistic regressionCV testing accuracy:  {100 * model.score(X_test, y_test):,.1f}')"
      ],
      "execution_count": 16,
      "outputs": [
        {
          "output_type": "stream",
          "text": [
            "Logistic regressionCV training accuracy:  98.3\n",
            "Logistic regressionCV testing accuracy:  84.2\n"
          ],
          "name": "stdout"
        }
      ]
    }
  ]
}