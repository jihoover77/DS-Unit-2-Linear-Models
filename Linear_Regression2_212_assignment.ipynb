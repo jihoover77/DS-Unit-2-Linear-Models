{
  "nbformat": 4,
  "nbformat_minor": 0,
  "metadata": {
    "kernelspec": {
      "display_name": "Python 3",
      "language": "python",
      "name": "python3"
    },
    "language_info": {
      "codemirror_mode": {
        "name": "ipython",
        "version": 3
      },
      "file_extension": ".py",
      "mimetype": "text/x-python",
      "name": "python",
      "nbconvert_exporter": "python",
      "pygments_lexer": "ipython3",
      "version": "3.7.3"
    },
    "colab": {
      "name": "Linear_Regression2_212_assignment.ipynb",
      "provenance": [],
      "include_colab_link": true
    }
  },
  "cells": [
    {
      "cell_type": "markdown",
      "metadata": {
        "id": "view-in-github",
        "colab_type": "text"
      },
      "source": [
        "<a href=\"https://colab.research.google.com/github/jihoover77/DS-Unit-2-Linear-Models/blob/master/Linear_Regression2_212_assignment.ipynb\" target=\"_parent\"><img src=\"https://colab.research.google.com/assets/colab-badge.svg\" alt=\"Open In Colab\"/></a>"
      ]
    },
    {
      "cell_type": "markdown",
      "metadata": {
        "id": "H-1FiXt-gFW8"
      },
      "source": [
        "Lambda School Data Science\n",
        "\n",
        "*Unit 2, Sprint 1, Module 2*\n",
        "\n",
        "---"
      ]
    },
    {
      "cell_type": "markdown",
      "metadata": {
        "id": "7IXUfiQ2UKj6"
      },
      "source": [
        "# Regression 2\n",
        "\n",
        "## Assignment\n",
        "\n",
        "You'll continue to **predict how much it costs to rent an apartment in NYC,** using the dataset from renthop.com.\n",
        "\n",
        "- [ ] Do train/test split. Use data from April & May 2016 to train. Use data from June 2016 to test.\n",
        "- [ ] Engineer at least two new features. (See below for explanation & ideas.)\n",
        "- [ ] Fit a linear regression model with at least two features.\n",
        "- [ ] Get the model's coefficients and intercept.\n",
        "- [ ] Get regression metrics RMSE, MAE, and $R^2$, for both the train and test data.\n",
        "- [ ] What's the best test MAE you can get? Share your score and features used with your cohort on Slack!\n",
        "- [ ] As always, commit your notebook to your fork of the GitHub repo.\n",
        "\n",
        "\n",
        "#### [Feature Engineering](https://en.wikipedia.org/wiki/Feature_engineering)\n",
        "\n",
        "> \"Some machine learning projects succeed and some fail. What makes the difference? Easily the most important factor is the features used.\" — Pedro Domingos, [\"A Few Useful Things to Know about Machine Learning\"](https://homes.cs.washington.edu/~pedrod/papers/cacm12.pdf)\n",
        "\n",
        "> \"Coming up with features is difficult, time-consuming, requires expert knowledge. 'Applied machine learning' is basically feature engineering.\" — Andrew Ng, [Machine Learning and AI via Brain simulations](https://forum.stanford.edu/events/2011/2011slides/plenary/2011plenaryNg.pdf) \n",
        "\n",
        "> Feature engineering is the process of using domain knowledge of the data to create features that make machine learning algorithms work. \n",
        "\n",
        "#### Feature Ideas\n",
        "- Does the apartment have a description?\n",
        "- How long is the description?\n",
        "- How many total perks does each apartment have?\n",
        "- Are cats _or_ dogs allowed?\n",
        "- Are cats _and_ dogs allowed?\n",
        "- Total number of rooms (beds + baths)\n",
        "- Ratio of beds to baths\n",
        "- What's the neighborhood, based on address or latitude & longitude?\n",
        "\n",
        "## Stretch Goals\n",
        "- [ ] If you want more math, skim [_An Introduction to Statistical Learning_](http://faculty.marshall.usc.edu/gareth-james/ISL/ISLR%20Seventh%20Printing.pdf),  Chapter 3.1, Simple Linear Regression, & Chapter 3.2, Multiple Linear Regression\n",
        "- [ ] If you want more introduction, watch [Brandon Foltz, Statistics 101: Simple Linear Regression](https://www.youtube.com/watch?v=ZkjP5RJLQF4)\n",
        "(20 minutes, over 1 million views)\n",
        "- [ ] Add your own stretch goal(s) !"
      ]
    },
    {
      "cell_type": "code",
      "metadata": {
        "id": "o9eSnDYhUGD7"
      },
      "source": [
        "%%capture\n",
        "import sys\n",
        "\n",
        "# If you're on Colab:\n",
        "if 'google.colab' in sys.modules:\n",
        "    DATA_PATH = 'https://raw.githubusercontent.com/LambdaSchool/DS-Unit-2-Applied-Modeling/master/data/'\n",
        "    !pip install category_encoders==2.*\n",
        "\n",
        "# If you're working locally:\n",
        "else:\n",
        "    DATA_PATH = '../data/'\n",
        "    \n",
        "# Ignore this Numpy warning when using Plotly Express:\n",
        "# FutureWarning: Method .ptp is deprecated and will be removed in a future version. Use numpy.ptp instead.\n",
        "import warnings\n",
        "warnings.filterwarnings(action='ignore', category=FutureWarning, module='numpy')"
      ],
      "execution_count": 1,
      "outputs": []
    },
    {
      "cell_type": "markdown",
      "metadata": {
        "id": "hV6kvl8O2cNC"
      },
      "source": [
        "# Step 1:  Read in, wrangle and feature engineer the dataset"
      ]
    },
    {
      "cell_type": "code",
      "metadata": {
        "id": "cvrw-T3bZOuW"
      },
      "source": [
        "# Import libraries\n",
        "import numpy as np\n",
        "import pandas as pd\n",
        "import matplotlib.pyplot as plt\n",
        "from sklearn.linear_model import LinearRegression\n",
        "from sklearn.metrics import mean_absolute_error, mean_squared_error, r2_score\n",
        "\n",
        "def wrangle(filepath):\n",
        "\n",
        "  # Read New York City apartment rental listing data\n",
        "  df = pd.read_csv(filepath,\n",
        "                   parse_dates=['created'],\n",
        "                   index_col='created')\n",
        "  \n",
        "  # Remove the most extreme 1% prices,\n",
        "  # the most extreme .1% latitudes, &\n",
        "  # the most extreme .1% longitudes\n",
        "  df = df[(df['price'] >= np.percentile(df['price'], 0.5)) & \n",
        "        (df['price'] <= np.percentile(df['price'], 99.5)) & \n",
        "        (df['latitude'] >= np.percentile(df['latitude'], 0.05)) & \n",
        "        (df['latitude'] < np.percentile(df['latitude'], 99.95)) &\n",
        "        (df['longitude'] >= np.percentile(df['longitude'], 0.05)) & \n",
        "        (df['longitude'] <= np.percentile(df['longitude'], 99.95))]\n",
        "\n",
        "  # Drop duplicate column\n",
        "  df.drop(columns='street_address', inplace=True)\n",
        "\n",
        "  # Engineer a feature called perks_count\n",
        "  df['perks_count'] = df[['elevator', 'cats_allowed',\n",
        "                          'hardwood_floors', 'dogs_allowed', 'doorman', \n",
        "                          'dishwasher', 'no_fee',\n",
        "                          'laundry_in_building', 'fitness_center', 'pre-war',\n",
        "                          'laundry_in_unit',\n",
        "                          'roof_deck', 'outdoor_space', 'dining_room',\n",
        "                          'high_speed_internet',\n",
        "                          'balcony', 'swimming_pool', 'new_construction',\n",
        "                          'terrace', 'exclusive',\n",
        "                          'loft', 'garden_patio', 'wheelchair_access',\n",
        "                          'common_outdoor_space']].sum(axis=1)\n",
        "  \n",
        "  # Engineer a feature called total_rooms\n",
        "  df['bedrooms'] = df['bedrooms'] + 1\n",
        "  df['bathrooms'] = df['bathrooms'] + 1\n",
        "  df['total_rooms'] = df['bathrooms'] + df['bedrooms']\n",
        "  df['bed_bath_ratio'] = df['bedrooms'] / df['bathrooms']\n",
        "\n",
        "  return df\n",
        "\n",
        "df = wrangle(DATA_PATH + 'apartments/renthop-nyc.csv')"
      ],
      "execution_count": 114,
      "outputs": []
    },
    {
      "cell_type": "markdown",
      "metadata": {
        "id": "OuDExDDV2zL7"
      },
      "source": [
        "# Step 2:  Split Data"
      ]
    },
    {
      "cell_type": "code",
      "metadata": {
        "colab": {
          "base_uri": "https://localhost:8080/"
        },
        "id": "rvePQqUH1bGH",
        "outputId": "ec95cead-64d3-4229-a3d0-743a615c5026"
      },
      "source": [
        "cutoff = '2016-06-01'\n",
        "mask = df.index < cutoff\n",
        "train = df.loc[mask]\n",
        "test = df.loc[~mask]\n",
        "\n",
        "target = 'price'\n",
        "features = ['total_rooms', 'bed_bath_ratio']\n",
        "\n",
        "y_train = train[target]\n",
        "X_train = train[features]\n",
        "y_test = test[target]\n",
        "X_test = test[features]\n",
        "\n",
        "X_train.shape, y_train.shape, X_test.shape, y_test.shape"
      ],
      "execution_count": 119,
      "outputs": [
        {
          "output_type": "execute_result",
          "data": {
            "text/plain": [
              "((31844, 2), (31844,), (16973, 2), (16973,))"
            ]
          },
          "metadata": {
            "tags": []
          },
          "execution_count": 119
        }
      ]
    },
    {
      "cell_type": "markdown",
      "metadata": {
        "id": "MTCjtL7X4k00"
      },
      "source": [
        "# Step 3:  Establish Baseline"
      ]
    },
    {
      "cell_type": "code",
      "metadata": {
        "colab": {
          "base_uri": "https://localhost:8080/"
        },
        "id": "FgAyKLpJ3VTR",
        "outputId": "39582600-5f84-419f-ff57-77063fb4eec2"
      },
      "source": [
        "y_pred = [y_train.mean()] * len(y_train)\n",
        "\n",
        "print('Baseline MAE: ', mean_absolute_error(y_train, y_pred))"
      ],
      "execution_count": 120,
      "outputs": [
        {
          "output_type": "stream",
          "text": [
            "Baseline MAE:  1201.8811133682555\n"
          ],
          "name": "stdout"
        }
      ]
    },
    {
      "cell_type": "markdown",
      "metadata": {
        "id": "PtVZEpHU5IH9"
      },
      "source": [
        "# Step 4:  Build Model"
      ]
    },
    {
      "cell_type": "code",
      "metadata": {
        "colab": {
          "base_uri": "https://localhost:8080/"
        },
        "id": "M-_2SyIN4vz5",
        "outputId": "cd459886-bc37-4437-9868-6b80f36a6d15"
      },
      "source": [
        "# Step 1:  Import predictor class\n",
        "# Done above\n",
        "\n",
        "# Step 2:  Instantiate the class\n",
        "model = LinearRegression()\n",
        "\n",
        "# Step 3:  Fit the model to training set\n",
        "model.fit(X_train, y_train)\n"
      ],
      "execution_count": 121,
      "outputs": [
        {
          "output_type": "execute_result",
          "data": {
            "text/plain": [
              "LinearRegression(copy_X=True, fit_intercept=True, n_jobs=None, normalize=False)"
            ]
          },
          "metadata": {
            "tags": []
          },
          "execution_count": 121
        }
      ]
    },
    {
      "cell_type": "markdown",
      "metadata": {
        "id": "OPuuPpAQ6_yX"
      },
      "source": [
        "# Step 5: Check Metrics"
      ]
    },
    {
      "cell_type": "code",
      "metadata": {
        "colab": {
          "base_uri": "https://localhost:8080/"
        },
        "id": "t0QQg7j85csg",
        "outputId": "6a27315e-61c2-43db-be60-a2258fdb2046"
      },
      "source": [
        "y_pred = model.predict(X_test)\n",
        "print('Linear Model Training MAE: ', mean_absolute_error(y_train, model.predict(X_train)))\n",
        "print('Linear Model Testing MAE: ', mean_absolute_error(y_test, y_pred))\n",
        "print('Linear Model Training RMSE: ', mean_squared_error(y_train, model.predict(X_train), squared=False))\n",
        "print('Linear Model Testing RMSE: ', mean_squared_error(y_test, y_pred, squared=False))\n",
        "print('Linear Model Training R^2: ', model.score(X_train, y_train))\n",
        "print('Linear Model Testing R^2: ', model.score(X_test, y_test))"
      ],
      "execution_count": 126,
      "outputs": [
        {
          "output_type": "stream",
          "text": [
            "Linear Model Training MAE:  829.3573746257878\n",
            "Linear Model Testing MAE:  837.6393790333283\n",
            "Linear Model Training RMSE:  1254.2715535911475\n",
            "Linear Model Testing RMSE:  1244.0731094487428\n",
            "Linear Model Training R^2:  0.49333886208081645\n",
            "Linear Model Testing R^2:  0.5020246747787429\n"
          ],
          "name": "stdout"
        }
      ]
    },
    {
      "cell_type": "markdown",
      "metadata": {
        "id": "OMWPwHTX9Mau"
      },
      "source": [
        "# Step 6:  Communicate the Results"
      ]
    },
    {
      "cell_type": "code",
      "metadata": {
        "colab": {
          "base_uri": "https://localhost:8080/"
        },
        "id": "8-7m7rSN9KWQ",
        "outputId": "acd616c7-188e-4ee8-8aca-055c1fabd8e2"
      },
      "source": [
        "intercept = round(model.intercept_)\n",
        "coef_1 = round(model.coef_[0])\n",
        "coef_2 = round(-1 * model.coef_[1])\n",
        "\n",
        "print(f'PRICE = {intercept} + ({coef_1} * TOTAL ROOMS) - ({coef_2} * BED_BATH_RATIO)')"
      ],
      "execution_count": 131,
      "outputs": [
        {
          "output_type": "stream",
          "text": [
            "PRICE = -93 + (1118 * TOTAL ROOMS) - (1418 * BED_BATH_RATIO)\n"
          ],
          "name": "stdout"
        }
      ]
    },
    {
      "cell_type": "markdown",
      "metadata": {
        "id": "OrTu48Lf-ZGN"
      },
      "source": [
        "### I added two new features (total rooms and bed bath ratio) to my dataset.  The best score I received was from the mean absolute error $838.  "
      ]
    }
  ]
}