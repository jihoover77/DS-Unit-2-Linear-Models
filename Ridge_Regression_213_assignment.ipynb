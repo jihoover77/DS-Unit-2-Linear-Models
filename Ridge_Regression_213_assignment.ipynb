{
  "nbformat": 4,
  "nbformat_minor": 0,
  "metadata": {
    "kernelspec": {
      "display_name": "Python 3",
      "language": "python",
      "name": "python3"
    },
    "language_info": {
      "codemirror_mode": {
        "name": "ipython",
        "version": 3
      },
      "file_extension": ".py",
      "mimetype": "text/x-python",
      "name": "python",
      "nbconvert_exporter": "python",
      "pygments_lexer": "ipython3",
      "version": "3.7.3"
    },
    "colab": {
      "name": "Ridge_Regression_213_assignment.ipynb",
      "provenance": [],
      "include_colab_link": true
    }
  },
  "cells": [
    {
      "cell_type": "markdown",
      "metadata": {
        "id": "view-in-github",
        "colab_type": "text"
      },
      "source": [
        "<a href=\"https://colab.research.google.com/github/jihoover77/DS-Unit-2-Linear-Models/blob/master/Ridge_Regression_213_assignment.ipynb\" target=\"_parent\"><img src=\"https://colab.research.google.com/assets/colab-badge.svg\" alt=\"Open In Colab\"/></a>"
      ]
    },
    {
      "cell_type": "markdown",
      "metadata": {
        "id": "Tm6kkcMNrT1U"
      },
      "source": [
        "Lambda School Data Science\n",
        "\n",
        "*Unit 2, Sprint 1, Module 3*\n",
        "\n",
        "---"
      ]
    },
    {
      "cell_type": "markdown",
      "metadata": {
        "id": "7IXUfiQ2UKj6"
      },
      "source": [
        "# Ridge Regression\n",
        "\n",
        "## Assignment\n",
        "\n",
        "We're going back to our other **New York City** real estate dataset. Instead of predicting apartment rents, you'll predict property sales prices.\n",
        "\n",
        "But not just for condos in Tribeca...\n",
        "\n",
        "- [ ] Use a subset of the data where `BUILDING_CLASS_CATEGORY` == `'01 ONE FAMILY DWELLINGS'` and the sale price was more than 100 thousand and less than 2 million.\n",
        "- [ ] Do train/test split. Use data from January — March 2019 to train. Use data from April 2019 to test.\n",
        "- [ ] Do one-hot encoding of categorical features.\n",
        "- [ ] Do feature selection with `SelectKBest`.\n",
        "- [ ] Fit a ridge regression model with multiple features. Use the `normalize=True` parameter (or do [feature scaling](https://scikit-learn.org/stable/modules/preprocessing.html) beforehand — use the scaler's `fit_transform` method with the train set, and the scaler's `transform` method with the test set)\n",
        "- [ ] Get mean absolute error for the test set.\n",
        "- [ ] As always, commit your notebook to your fork of the GitHub repo.\n",
        "\n",
        "The [NYC Department of Finance](https://www1.nyc.gov/site/finance/taxes/property-rolling-sales-data.page) has a glossary of property sales terms and NYC Building Class Code Descriptions. The data comes from the [NYC OpenData](https://data.cityofnewyork.us/browse?q=NYC%20calendar%20sales) portal.\n",
        "\n",
        "\n",
        "## Stretch Goals\n",
        "\n",
        "Don't worry, you aren't expected to do all these stretch goals! These are just ideas to consider and choose from.\n",
        "\n",
        "- [ ] Add your own stretch goal(s) !\n",
        "- [ ] Instead of `Ridge`, try `LinearRegression`. Depending on how many features you select, your errors will probably blow up! 💥\n",
        "- [ ] Instead of `Ridge`, try [`RidgeCV`](https://scikit-learn.org/stable/modules/generated/sklearn.linear_model.RidgeCV.html).\n",
        "- [ ] Learn more about feature selection:\n",
        "    - [\"Permutation importance\"](https://www.kaggle.com/dansbecker/permutation-importance)\n",
        "    - [scikit-learn's User Guide for Feature Selection](https://scikit-learn.org/stable/modules/feature_selection.html)\n",
        "    - [mlxtend](http://rasbt.github.io/mlxtend/) library\n",
        "    - scikit-learn-contrib libraries: [boruta_py](https://github.com/scikit-learn-contrib/boruta_py) & [stability-selection](https://github.com/scikit-learn-contrib/stability-selection)\n",
        "    - [_Feature Engineering and Selection_](http://www.feat.engineering/) by Kuhn & Johnson.\n",
        "- [ ] Try [statsmodels](https://www.statsmodels.org/stable/index.html) if you’re interested in more inferential statistical approach to linear regression and feature selection, looking at p values and 95% confidence intervals for the coefficients.\n",
        "- [ ] Read [_An Introduction to Statistical Learning_](http://faculty.marshall.usc.edu/gareth-james/ISL/ISLR%20Seventh%20Printing.pdf), Chapters 1-3, for more math & theory, but in an accessible, readable way.\n",
        "- [ ] Try [scikit-learn pipelines](https://scikit-learn.org/stable/modules/compose.html)."
      ]
    },
    {
      "cell_type": "code",
      "metadata": {
        "id": "o9eSnDYhUGD7"
      },
      "source": [
        "%%capture\n",
        "import sys\n",
        "\n",
        "# If you're on Colab:\n",
        "if 'google.colab' in sys.modules:\n",
        "    DATA_PATH = 'https://raw.githubusercontent.com/LambdaSchool/DS-Unit-2-Applied-Modeling/master/data/'\n",
        "    !pip install category_encoders==2.*\n",
        "\n",
        "# If you're working locally:\n",
        "else:\n",
        "    DATA_PATH = '../data/'\n",
        "    \n",
        "# Ignore this Numpy warning when using Plotly Express:\n",
        "# FutureWarning: Method .ptp is deprecated and will be removed in a future version. Use numpy.ptp instead.\n",
        "import warnings\n",
        "warnings.filterwarnings(action='ignore', category=FutureWarning, module='numpy')"
      ],
      "execution_count": null,
      "outputs": []
    },
    {
      "cell_type": "markdown",
      "metadata": {
        "id": "5toFqp5sy27S"
      },
      "source": [
        "# I. Wrangle Data"
      ]
    },
    {
      "cell_type": "code",
      "metadata": {
        "id": "QJBD4ruICm1m"
      },
      "source": [
        "# Import Libraries I am using\n",
        "import pandas as pd\n",
        "import pandas_profiling\n",
        "import matplotlib.pyplot as plt\n",
        "from sklearn.feature_selection import SelectKBest, f_regression\n",
        "from sklearn.linear_model import LinearRegression, Ridge, RidgeCV\n",
        "from sklearn.metrics import mean_absolute_error\n",
        "from category_encoders import OneHotEncoder\n",
        "from sklearn.pipeline import make_pipeline\n",
        "from sklearn.preprocessing import StandardScaler\n",
        "\n",
        "# Read New York City property sales data\n",
        "\n",
        "def wrangle(filepath):\n",
        "  df = pd.read_csv(filepath,\n",
        "                   parse_dates=['SALE DATE'],\n",
        "                   index_col='SALE DATE',\n",
        "                   ).sort_values(by='SALE DATE')\n",
        "  \n",
        "  # Drop all NaN values from the data frame\n",
        "\n",
        "  # Change column names: replace spaces with underscores\n",
        "  df.columns = [col.replace(' ', '_') for col in df]\n",
        "\n",
        "  # SALE_PRICE was read as strings.\n",
        "  # Remove symbols, convert to integer\n",
        "  df['SALE_PRICE'] = (\n",
        "    df['SALE_PRICE']\n",
        "    .str.replace('$','')\n",
        "    .str.replace('-','')\n",
        "    .str.replace(',','')\n",
        "    .astype(int)\n",
        "  )\n",
        "  \n",
        "  # LAND_SQUARE_FEET was read as strings.\n",
        "  # Remove the symbols, convert to float.\n",
        "  \n",
        "  # Reduce cardinality for NEIGHBORHOOD feature\n",
        "\n",
        "  # Get a list of the top 10 neighborhoods\n",
        "  top10 = df['NEIGHBORHOOD'].value_counts()[:10].index\n",
        "\n",
        "  # At locations where the neighborhood is NOT in the top 10, \n",
        "  # replace the neighborhood with 'OTHER'\n",
        "  df.loc[~df['NEIGHBORHOOD'].isin(top10), 'NEIGHBORHOOD'] = 'OTHER'\n",
        "\n",
        "  # BOROUGH is a numeric column, but arguably should be a categorical feature,\n",
        "  # so convert it from a number to a string\n",
        "  df['BOROUGH'] = df['BOROUGH'].astype(str)\n",
        "\n",
        "  # Use a subset of the data where \n",
        "  # BUILDING_CLASS_CATEGORY == '01 ONE FAMILY DWELLINGS'\n",
        "  # sale price was more than 100 thousand and less than 2 million.\n",
        "\n",
        "  class_mask = df['BUILDING_CLASS_CATEGORY'] == '01 ONE FAMILY DWELLINGS'\n",
        "  df = df[class_mask]\n",
        "\n",
        "  sales_mask = (df['SALE_PRICE'] > 100000) & (df['SALE_PRICE'] < 2000000)\n",
        "  df = df[sales_mask]\n",
        "\n",
        "  # Drop features with only one type of observation and duplicate columns\n",
        "  df.drop(columns=['EASE-MENT', 'APARTMENT_NUMBER', 'BUILDING_CLASS_CATEGORY',\n",
        "                  'LAND_SQUARE_FEET'], inplace=True)\n",
        "\n",
        "  # Drop high cardinality categorical features\n",
        "  threshold = 10\n",
        "  drop_cols = [col for col in df.select_dtypes('object').columns\n",
        "             if df[col].nunique() >= threshold]\n",
        "  df.drop(columns=drop_cols, inplace=True)\n",
        "\n",
        "  return df\n",
        "\n",
        "df = wrangle(DATA_PATH+'condos/NYC_Citywide_Rolling_Calendar_Sales.csv')"
      ],
      "execution_count": null,
      "outputs": []
    },
    {
      "cell_type": "code",
      "metadata": {
        "colab": {
          "base_uri": "https://localhost:8080/"
        },
        "id": "DVkeoTrT37Zl",
        "outputId": "4aacde72-794e-4139-9ed7-15c498ea92d7"
      },
      "source": [
        "df.info()"
      ],
      "execution_count": null,
      "outputs": [
        {
          "output_type": "stream",
          "text": [
            "<class 'pandas.core.frame.DataFrame'>\n",
            "DatetimeIndex: 3151 entries, 2019-01-01 to 2019-04-30\n",
            "Data columns (total 13 columns):\n",
            " #   Column                     Non-Null Count  Dtype  \n",
            "---  ------                     --------------  -----  \n",
            " 0   BOROUGH                    3151 non-null   object \n",
            " 1   NEIGHBORHOOD               3151 non-null   object \n",
            " 2   TAX_CLASS_AT_PRESENT       3151 non-null   object \n",
            " 3   BLOCK                      3151 non-null   int64  \n",
            " 4   LOT                        3151 non-null   int64  \n",
            " 5   ZIP_CODE                   3151 non-null   float64\n",
            " 6   RESIDENTIAL_UNITS          3151 non-null   float64\n",
            " 7   COMMERCIAL_UNITS           3151 non-null   float64\n",
            " 8   TOTAL_UNITS                3151 non-null   float64\n",
            " 9   GROSS_SQUARE_FEET          3151 non-null   float64\n",
            " 10  YEAR_BUILT                 3151 non-null   float64\n",
            " 11  TAX_CLASS_AT_TIME_OF_SALE  3151 non-null   int64  \n",
            " 12  SALE_PRICE                 3151 non-null   int64  \n",
            "dtypes: float64(6), int64(4), object(3)\n",
            "memory usage: 344.6+ KB\n"
          ],
          "name": "stdout"
        }
      ]
    },
    {
      "cell_type": "markdown",
      "metadata": {
        "id": "oo0Wj1yxy751"
      },
      "source": [
        "# II. Train/Test Split"
      ]
    },
    {
      "cell_type": "code",
      "metadata": {
        "id": "VVDRt6YKrT1f"
      },
      "source": [
        "#  Do train/test split. Use data from January — March 2019 to train. Use data from April 2019 to test\n",
        "target = 'SALE_PRICE'\n",
        "y = df[target]\n",
        "X = df.drop(columns=target)"
      ],
      "execution_count": null,
      "outputs": []
    },
    {
      "cell_type": "code",
      "metadata": {
        "id": "OzcQOmVUrT1f",
        "colab": {
          "base_uri": "https://localhost:8080/"
        },
        "outputId": "34b2e7a2-1f97-4d12-ec8f-ab56889911a4"
      },
      "source": [
        "cutoff = '2019-04-01'\n",
        "mask = df.index < '2019-04-01'\n",
        "X_train, y_train = X.loc[mask], y.loc[mask]\n",
        "X_test, y_test = X.loc[~mask], y.loc[~mask]\n",
        "\n",
        "X_train.shape, y_train.shape, X_test.shape, y_test.shape"
      ],
      "execution_count": null,
      "outputs": [
        {
          "output_type": "execute_result",
          "data": {
            "text/plain": [
              "((2507, 12), (2507,), (644, 12), (644,))"
            ]
          },
          "metadata": {
            "tags": []
          },
          "execution_count": 233
        }
      ]
    },
    {
      "cell_type": "markdown",
      "metadata": {
        "id": "3T1Ab_a2_ITj"
      },
      "source": [
        "# III. Establish Baseline"
      ]
    },
    {
      "cell_type": "code",
      "metadata": {
        "id": "pvCqb-mXrT1f",
        "colab": {
          "base_uri": "https://localhost:8080/"
        },
        "outputId": "28e599b9-d37a-45da-ba21-144ec34c5d50"
      },
      "source": [
        "y_pred = [y_train.mean()] * (len(y_train))\n",
        "\n",
        "print('Baseline Mean: ', round(y_train.mean()))\n",
        "print('Baseline MAE: ', round(mean_absolute_error(y_train, y_pred)))"
      ],
      "execution_count": null,
      "outputs": [
        {
          "output_type": "stream",
          "text": [
            "Baseline Mean:  621574\n",
            "Baseline MAE:  214722\n"
          ],
          "name": "stdout"
        }
      ]
    },
    {
      "cell_type": "markdown",
      "metadata": {
        "id": "C_E_SkHTARSs"
      },
      "source": [
        "# IV. Build Models"
      ]
    },
    {
      "cell_type": "markdown",
      "metadata": {
        "id": "8LAZZUFQAdTK"
      },
      "source": [
        "## A. Use One Hot Encoding on the categorical features"
      ]
    },
    {
      "cell_type": "code",
      "metadata": {
        "colab": {
          "base_uri": "https://localhost:8080/"
        },
        "id": "igErdukwARAO",
        "outputId": "79aa288e-29a3-4e87-ee79-94e1a22d58d7"
      },
      "source": [
        "# Step 1: Import transformer\n",
        "# Done\n",
        "\n",
        "# Step 2: Intantiate the tranformer\n",
        "ohe = OneHotEncoder(use_cat_names=True)\n",
        "\n",
        "# Step 3:  Fit the transformer to the TRAINING data\n",
        "ohe.fit(X_train)\n",
        "\n",
        "# Step 4:  Transform my training and test data\n",
        "XT_train = ohe.fit_transform(X_train)\n",
        "XT_test = ohe.transform(X_test)\n"
      ],
      "execution_count": null,
      "outputs": [
        {
          "output_type": "stream",
          "text": [
            "/usr/local/lib/python3.7/dist-packages/category_encoders/utils.py:21: FutureWarning: is_categorical is deprecated and will be removed in a future version.  Use is_categorical_dtype instead\n",
            "  elif pd.api.types.is_categorical(cols):\n",
            "/usr/local/lib/python3.7/dist-packages/category_encoders/utils.py:21: FutureWarning: is_categorical is deprecated and will be removed in a future version.  Use is_categorical_dtype instead\n",
            "  elif pd.api.types.is_categorical(cols):\n"
          ],
          "name": "stderr"
        }
      ]
    },
    {
      "cell_type": "markdown",
      "metadata": {
        "id": "4xA4N99UCVKf"
      },
      "source": [
        "## B. Use SelectKBest to select features that are optimal for this data set\n"
      ]
    },
    {
      "cell_type": "code",
      "metadata": {
        "colab": {
          "base_uri": "https://localhost:8080/"
        },
        "id": "ZbwTrOEA_8YM",
        "outputId": "f9339511-7148-4f19-8c50-ab523c30deeb"
      },
      "source": [
        "# Step 1:  Import selector\n",
        "# Done\n",
        "\n",
        "# Step 2:  Instantiate the selector\n",
        "selector = SelectKBest(score_func=f_regression)\n",
        "\n",
        "# Step 3:  Fit the selector to TRAINING data\n",
        "selector.fit(XT_train, y_train)\n",
        "\n",
        "# Step 4:  Transform the training and test data\n",
        "XTT_train = selector.fit_transform(XT_train, y_train)\n",
        "XTT_test = selector.transform(XT_test)"
      ],
      "execution_count": null,
      "outputs": [
        {
          "output_type": "stream",
          "text": [
            "/usr/local/lib/python3.7/dist-packages/sklearn/feature_selection/_univariate_selection.py:299: RuntimeWarning: divide by zero encountered in true_divide\n",
            "  corr /= X_norms\n",
            "/usr/local/lib/python3.7/dist-packages/sklearn/feature_selection/_univariate_selection.py:304: RuntimeWarning: invalid value encountered in true_divide\n",
            "  F = corr ** 2 / (1 - corr ** 2) * degrees_of_freedom\n",
            "/usr/local/lib/python3.7/dist-packages/sklearn/feature_selection/_univariate_selection.py:299: RuntimeWarning: divide by zero encountered in true_divide\n",
            "  corr /= X_norms\n",
            "/usr/local/lib/python3.7/dist-packages/sklearn/feature_selection/_univariate_selection.py:304: RuntimeWarning: invalid value encountered in true_divide\n",
            "  F = corr ** 2 / (1 - corr ** 2) * degrees_of_freedom\n"
          ],
          "name": "stderr"
        }
      ]
    },
    {
      "cell_type": "markdown",
      "metadata": {
        "id": "pWnGKk1yEBih"
      },
      "source": [
        "## C. Choose our predictor class"
      ]
    },
    {
      "cell_type": "markdown",
      "metadata": {
        "id": "5UftougiFRvu"
      },
      "source": [
        "### Linear Regression Model"
      ]
    },
    {
      "cell_type": "code",
      "metadata": {
        "colab": {
          "base_uri": "https://localhost:8080/"
        },
        "id": "Dl5tTkyOD14G",
        "outputId": "1506c17d-f398-4a19-b84e-41314c14aaa9"
      },
      "source": [
        "# Step 1:  Import predictor\n",
        "# Done\n",
        "\n",
        "# Step 2:  Instantiate the predictor\n",
        "model_lr = LinearRegression()\n",
        "\n",
        "# Step 3:  Fit the model to the TRAINING data\n",
        "model_lr.fit(XT_train, y_train)"
      ],
      "execution_count": null,
      "outputs": [
        {
          "output_type": "execute_result",
          "data": {
            "text/plain": [
              "LinearRegression(copy_X=True, fit_intercept=True, n_jobs=None, normalize=False)"
            ]
          },
          "metadata": {
            "tags": []
          },
          "execution_count": 237
        }
      ]
    },
    {
      "cell_type": "markdown",
      "metadata": {
        "id": "euDyEMcBGJ0Z"
      },
      "source": [
        "### Ridge Regression"
      ]
    },
    {
      "cell_type": "code",
      "metadata": {
        "colab": {
          "base_uri": "https://localhost:8080/"
        },
        "id": "x77sMFbTGE2M",
        "outputId": "b07f5838-b6eb-4a06-9f50-382b86b849a2"
      },
      "source": [
        "model_r = Ridge(alpha=1.0)\n",
        "model_r.fit(XT_train, y_train)"
      ],
      "execution_count": null,
      "outputs": [
        {
          "output_type": "execute_result",
          "data": {
            "text/plain": [
              "Ridge(alpha=1.0, copy_X=True, fit_intercept=True, max_iter=None,\n",
              "      normalize=False, random_state=None, solver='auto', tol=0.001)"
            ]
          },
          "metadata": {
            "tags": []
          },
          "execution_count": 238
        }
      ]
    },
    {
      "cell_type": "markdown",
      "metadata": {
        "id": "FVu5-GODFYaC"
      },
      "source": [
        "### Ridge Regression Model with SelectKBest"
      ]
    },
    {
      "cell_type": "code",
      "metadata": {
        "colab": {
          "base_uri": "https://localhost:8080/"
        },
        "id": "YvkKJevWFXVq",
        "outputId": "3a89cdff-00b4-4abc-a970-1c4b32c1de55"
      },
      "source": [
        "model_r_skbest = Ridge(alpha=1.0)\n",
        "model_r_skbest.fit(XTT_train, y_train)"
      ],
      "execution_count": null,
      "outputs": [
        {
          "output_type": "execute_result",
          "data": {
            "text/plain": [
              "Ridge(alpha=1.0, copy_X=True, fit_intercept=True, max_iter=None,\n",
              "      normalize=False, random_state=None, solver='auto', tol=0.001)"
            ]
          },
          "metadata": {
            "tags": []
          },
          "execution_count": 239
        }
      ]
    },
    {
      "cell_type": "markdown",
      "metadata": {
        "id": "gkFp5KivFzKb"
      },
      "source": [
        "# V. Check Metrics"
      ]
    },
    {
      "cell_type": "code",
      "metadata": {
        "colab": {
          "base_uri": "https://localhost:8080/"
        },
        "id": "-0x6sp7lH2Kd",
        "outputId": "813f9120-9228-4d02-af7c-ccf785dc5be8"
      },
      "source": [
        "print(f'Baseline Mean: ${y_train.mean():,.0f}')\n",
        "print(f'Baseline MAE: ${mean_absolute_error(y_train, y_pred):,.0f}')"
      ],
      "execution_count": null,
      "outputs": [
        {
          "output_type": "stream",
          "text": [
            "Baseline Mean: $621,574\n",
            "Baseline MAE: $214,722\n"
          ],
          "name": "stdout"
        }
      ]
    },
    {
      "cell_type": "code",
      "metadata": {
        "colab": {
          "base_uri": "https://localhost:8080/"
        },
        "id": "dodjEN0LFySV",
        "outputId": "8a42088f-dd28-475b-b623-9297dfe43800"
      },
      "source": [
        "print(f'LR training MAE: ${mean_absolute_error(y_train, (model_lr.predict(XT_train))):,.0f}')\n",
        "print(f'LR testing MAE: ${mean_absolute_error(y_test, (model_lr.predict(XT_test))):,.0f}')"
      ],
      "execution_count": null,
      "outputs": [
        {
          "output_type": "stream",
          "text": [
            "LR training MAE: $158,445\n",
            "LR testing MAE: $162,021\n"
          ],
          "name": "stdout"
        }
      ]
    },
    {
      "cell_type": "code",
      "metadata": {
        "colab": {
          "base_uri": "https://localhost:8080/"
        },
        "id": "SOKNpvdsFpXu",
        "outputId": "4c6a1fa7-c6ec-4f8a-de71-9d1346a3c61d"
      },
      "source": [
        "print(f'Ridge training MAE:  ${mean_absolute_error(y_train, model_r.predict(XT_train)):,.0f}')\n",
        "print(f'Ridge testing MAE:  ${mean_absolute_error(y_test, model_r.predict(XT_test)):,.0f}')"
      ],
      "execution_count": null,
      "outputs": [
        {
          "output_type": "stream",
          "text": [
            "Ridge training MAE:  $158,434\n",
            "Ridge testing MAE:  $161,908\n"
          ],
          "name": "stdout"
        }
      ]
    },
    {
      "cell_type": "code",
      "metadata": {
        "colab": {
          "base_uri": "https://localhost:8080/"
        },
        "id": "2jWUTTfZKq_b",
        "outputId": "919fcd0e-37e3-4099-fbb9-db3f639f3656"
      },
      "source": [
        "print(f'Ridge training MAE:  ${mean_absolute_error(y_train, model_r_skbest.predict(XTT_train)):,.0f}')\n",
        "print(f'Ridge testing MAE:  ${mean_absolute_error(y_test, model_r_skbest.predict(XTT_test)):,.0f}')"
      ],
      "execution_count": null,
      "outputs": [
        {
          "output_type": "stream",
          "text": [
            "Ridge training MAE:  $161,536\n",
            "Ridge testing MAE:  $162,073\n"
          ],
          "name": "stdout"
        }
      ]
    },
    {
      "cell_type": "markdown",
      "metadata": {
        "id": "wTl-ddgfL4W_"
      },
      "source": [
        "# Communicate results"
      ]
    },
    {
      "cell_type": "code",
      "metadata": {
        "id": "UBugs3HiL31c",
        "colab": {
          "base_uri": "https://localhost:8080/",
          "height": 281
        },
        "outputId": "c5621f29-6804-4d90-8ff8-c52a810880b0"
      },
      "source": [
        "%matplotlib inline\n",
        "coefficents = model_lr.coef_\n",
        "features = ohe.get_feature_names()\n",
        "feat_imp = pd.Series(coefficents, index=features).sort_values(key=abs)\n",
        "feat_imp.tail(10).plot(kind='barh')\n",
        "plt.title('Coefficients for Linear Regression')\n",
        "plt.show()"
      ],
      "execution_count": null,
      "outputs": [
        {
          "output_type": "display_data",
          "data": {
            "image/png": "[encoded data removed]",
            "text/plain": [
              "<Figure size 432x288 with 1 Axes>"
            ]
          },
          "metadata": {
            "tags": [],
            "needs_background": "light"
          }
        }
      ]
    },
    {
      "cell_type": "code",
      "metadata": {
        "id": "HAXEImKlM4Si",
        "colab": {
          "base_uri": "https://localhost:8080/",
          "height": 294
        },
        "outputId": "15eabef9-0396-457d-a1bd-42067a378957"
      },
      "source": [
        "coefficients = model_r.coef_\n",
        "features = ohe.get_feature_names()\n",
        "feat_imp = pd.Series(coefficients, index=features).sort_values(key=abs)\n",
        "feat_imp.tail(10).plot(kind='barh')\n",
        "plt.xlabel('Coefficient [$]')\n",
        "plt.ylabel('Feature')\n",
        "plt.title('Coefficients for Ridge Regression')\n",
        "plt.show()"
      ],
      "execution_count": null,
      "outputs": [
        {
          "output_type": "display_data",
          "data": {
            "image/png": "[encoded data removed]",
            "text/plain": [
              "<Figure size 432x288 with 1 Axes>"
            ]
          },
          "metadata": {
            "tags": [],
            "needs_background": "light"
          }
        }
      ]
    },
    {
      "cell_type": "code",
      "metadata": {
        "colab": {
          "base_uri": "https://localhost:8080/"
        },
        "id": "eJyJet_SOSiz",
        "outputId": "f9d7c191-18f0-4ab2-8e87-1c5a8e09bc22"
      },
      "source": [
        "pipeline = make_pipeline(\n",
        "    OneHotEncoder(use_cat_names=True),\n",
        "    StandardScaler(),\n",
        "    RidgeCV(alphas=(0.1, 1.0, 10.0, 100.0))\n",
        ")\n",
        "\n",
        "pipeline.fit(XT_train, y_train);"
      ],
      "execution_count": null,
      "outputs": [
        {
          "output_type": "stream",
          "text": [
            "/usr/local/lib/python3.7/dist-packages/category_encoders/utils.py:21: FutureWarning: is_categorical is deprecated and will be removed in a future version.  Use is_categorical_dtype instead\n",
            "  elif pd.api.types.is_categorical(cols):\n"
          ],
          "name": "stderr"
        }
      ]
    },
    {
      "cell_type": "code",
      "metadata": {
        "colab": {
          "base_uri": "https://localhost:8080/"
        },
        "id": "4oMoUQDURu6q",
        "outputId": "15615328-5cc1-4f03-d3b3-f3f6e2358ba5"
      },
      "source": [
        "print(f'Ridge CV Training MAE:  ${mean_absolute_error(y_train, pipeline.predict(XT_train)):,.0f}')\n",
        "print(f'Ridge CV Testing MAE:  ${mean_absolute_error(y_test, pipeline.predict(XT_test)):,.0f}')"
      ],
      "execution_count": null,
      "outputs": [
        {
          "output_type": "stream",
          "text": [
            "Ridge CV Training MAE:  $158,443\n",
            "Ridge CV Testing MAE:  $161,971\n"
          ],
          "name": "stdout"
        }
      ]
    }
  ]
}